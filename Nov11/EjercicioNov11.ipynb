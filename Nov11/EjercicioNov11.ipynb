{
  "nbformat": 4,
  "nbformat_minor": 0,
  "metadata": {
    "colab": {
      "provenance": [],
      "authorship_tag": "ABX9TyN0q/jKqZbABHen5t28d2vQ",
      "include_colab_link": true
    },
    "kernelspec": {
      "name": "python3",
      "display_name": "Python 3"
    },
    "language_info": {
      "name": "python"
    }
  },
  "cells": [
    {
      "cell_type": "markdown",
      "metadata": {
        "id": "view-in-github",
        "colab_type": "text"
      },
      "source": [
        "<a href=\"https://colab.research.google.com/github/DCI-alxogm/ml2023-JuanLeonelSantamariaMena/blob/main/Nov11/EjercicioNov11.ipynb\" target=\"_parent\"><img src=\"https://colab.research.google.com/assets/colab-badge.svg\" alt=\"Open In Colab\"/></a>"
      ]
    },
    {
      "cell_type": "code",
      "source": [
        "import glob\n",
        "import numpy as np\n",
        "import copy\n",
        "import matplotlib.pyplot as plt\n",
        "import h5py\n",
        "import scipy\n",
        "from PIL import Image\n",
        "from scipy import ndimage\n",
        "\n",
        "%matplotlib inline"
      ],
      "metadata": {
        "id": "NpLONy-HL77X"
      },
      "execution_count": 1,
      "outputs": []
    },
    {
      "cell_type": "markdown",
      "source": [
        "#Capas"
      ],
      "metadata": {
        "id": "bkx3fUQWLCrP"
      }
    },
    {
      "cell_type": "markdown",
      "source": [
        "$$a_j^{[l]}=g(\\vec{w}_j^{[l]}\\cdot \\vec{a}^{[l-1]}+b^{[l]})$$"
      ],
      "metadata": {
        "id": "EGe1vtnkJxmr"
      }
    },
    {
      "cell_type": "markdown",
      "source": [
        "# Carga de textos"
      ],
      "metadata": {
        "id": "ujrwom2yL9-F"
      }
    },
    {
      "cell_type": "code",
      "source": [
        "from google.colab import drive\n",
        "drive.mount('/content/drive')\n",
        "#Los datos corresponden a un subset del dataset cats vs dogs de https://www.kaggle.com/c/dogs-vs-cats\n",
        "files=glob.glob('/content/drive/MyDrive/UGTO/DCI-data/CATS_DOGS/*')\n",
        "len(files)"
      ],
      "metadata": {
        "colab": {
          "base_uri": "https://localhost:8080/"
        },
        "id": "kvqfek6JMFfo",
        "outputId": "5773e6ae-4294-402d-d250-cd1f9c0a3047"
      },
      "execution_count": 2,
      "outputs": [
        {
          "output_type": "stream",
          "name": "stdout",
          "text": [
            "Mounted at /content/drive\n"
          ]
        },
        {
          "output_type": "execute_result",
          "data": {
            "text/plain": [
              "1787"
            ]
          },
          "metadata": {},
          "execution_count": 2
        }
      ]
    },
    {
      "cell_type": "markdown",
      "source": [
        "# Conjunto de datos(Preparación)"
      ],
      "metadata": {
        "id": "JJS_ZL9kMRw5"
      }
    },
    {
      "cell_type": "code",
      "source": [
        "#numero de pixeles para nuestras imágenes.\n",
        "num_px=64\n",
        "\n",
        "train_x=[]\n",
        "train_y=[]\n",
        "test_x=[]\n",
        "test_y=[]\n",
        "i,j=0,0\n",
        "for file in files[:]:\n",
        "    img=Image.open(file)\n",
        "    img=img.resize((num_px,num_px))\n",
        "    data=np.asarray(img)\n",
        "    if 'dog' in file and i<100:\n",
        "        if i<50:\n",
        "          train_y.append(1)\n",
        "          train_x.append(data)\n",
        "        if i>49:\n",
        "          test_y.append(1)\n",
        "          test_x.append(data)\n",
        "        i +=1\n",
        "        img.close()\n",
        "    if 'cat' in file and j<100:\n",
        "        if j<50:\n",
        "          train_y.append(0)\n",
        "          train_x.append(data)\n",
        "        if j>49:\n",
        "          test_y.append(0)\n",
        "          test_x.append(data)\n",
        "        j +=1\n",
        "        img.close()\n",
        "    if i==100 and j==100:\n",
        "        print(f'100/100:{i}/{j}')\n",
        "        break\n",
        "        img.close()\n",
        "train_y=np.asarray(train_y)\n",
        "train_x=np.asarray(train_x)\n",
        "test_y=np.asarray(test_y)\n",
        "test_x=np.asarray(test_x)\n"
      ],
      "metadata": {
        "colab": {
          "base_uri": "https://localhost:8080/"
        },
        "id": "eUdyrAGZMdkB",
        "outputId": "5fc5f2db-82c8-4e9b-b6a7-1df18ffbbc2d"
      },
      "execution_count": 3,
      "outputs": [
        {
          "output_type": "stream",
          "name": "stdout",
          "text": [
            "100/100:100/100\n"
          ]
        }
      ]
    },
    {
      "cell_type": "code",
      "source": [
        "plt.imshow(train_x[50])"
      ],
      "metadata": {
        "id": "vQ8i9U60MpJo",
        "outputId": "b58fa1a3-4cdc-4cb0-ddae-06bb6075349d",
        "colab": {
          "base_uri": "https://localhost:8080/",
          "height": 0
        }
      },
      "execution_count": 4,
      "outputs": [
        {
          "output_type": "execute_result",
          "data": {
            "text/plain": [
              "<matplotlib.image.AxesImage at 0x7bc0e75c66b0>"
            ]
          },
          "metadata": {},
          "execution_count": 4
        },
        {
          "output_type": "display_data",
          "data": {
            "text/plain": [
              "<Figure size 640x480 with 1 Axes>"
            ],
            "image/png": "[encoded data removed]"
          },
          "metadata": {}
        }
      ]
    },
    {
      "cell_type": "code",
      "source": [
        "plt.imshow(test_x[0])"
      ],
      "metadata": {
        "id": "BnnrSqu-N96q",
        "outputId": "f9232dd4-9b93-40d1-f0cc-1c20a689de0f",
        "colab": {
          "base_uri": "https://localhost:8080/",
          "height": 0
        }
      },
      "execution_count": 5,
      "outputs": [
        {
          "output_type": "execute_result",
          "data": {
            "text/plain": [
              "<matplotlib.image.AxesImage at 0x7bc0e523c160>"
            ]
          },
          "metadata": {},
          "execution_count": 5
        },
        {
          "output_type": "display_data",
          "data": {
            "text/plain": [
              "<Figure size 640x480 with 1 Axes>"
            ],
            "image/png": "[encoded data removed]"
          },
          "metadata": {}
        }
      ]
    },
    {
      "cell_type": "code",
      "source": [
        "train_x_flatten = train_x.reshape(train_x.shape[0], -1).T\n",
        "\n",
        "test_x_flatten = test_x.reshape(test_x.shape[0], -1).T\n",
        "\n",
        "train_set_y=train_y.reshape((1,train_y.shape[0]))\n",
        "test_set_y=test_y.reshape((1,test_y.shape[0]))\n",
        "\n",
        "train_set_x= train_x_flatten/255\n",
        "test_set_x= test_x_flatten/255"
      ],
      "metadata": {
        "id": "L_iua6_BN9z8"
      },
      "execution_count": 6,
      "outputs": []
    },
    {
      "cell_type": "markdown",
      "source": [
        "#funciones"
      ],
      "metadata": {
        "id": "OEQZcQ4FOeFX"
      }
    },
    {
      "cell_type": "markdown",
      "source": [
        "funciones usadas en la implementacion de una sola neurona  de las cueles se utilizaran y modificaran z, g, costo"
      ],
      "metadata": {
        "id": "WmHRKXIj_udX"
      }
    },
    {
      "cell_type": "code",
      "source": [
        "#funcion Z\n",
        "def z(x,w,b):\n",
        "  return w.T @ x + b\n",
        "#funcion g sigmoide\n",
        "def g(x,w,b,z):\n",
        "  return (1/(1+np.exp(-z(x,w,b))))\n",
        "#funcion costo\n",
        "def J(x,y,w,b,z,g):\n",
        "  y_=g(x,w,b,z)\n",
        "  m=y.shape[1]\n",
        "  j=np.sum(y*np.log(y_)+(1-y)*np.log(1-y_))\n",
        "  return -j/m\n",
        "\n",
        "\n",
        "#derivada\n",
        "def dw(x,y,w,b,z,g):\n",
        "  y_=g(x,w,b,z)\n",
        "  m=y.shape[1]\n",
        "  return (1/m)*x@(y_-y)\n",
        "\n",
        "def db(x,y,w,b,z,g):\n",
        "  y_=g(x,w,b,z)\n",
        "  m=y.shape[1]\n",
        "  return (1/m)*(y_-y)\n",
        "\n",
        "def Grad_desc(x,y,w,b,z,g,iter=1000,alpha=0.001):\n",
        "  costs=[]\n",
        "  for i in range(iter):\n",
        "    # Registro de costo\n",
        "    j=J(x,y,w,b,z,g)\n",
        "    costs.append(j)\n",
        "    # Actualizacion de pesos\n",
        "    w=w-alpha*dw(x,y,w,b,z,g)\n",
        "    b=b-alpha*db(x,y,w,b,z,g)\n",
        "    if (i%10==0 ):\n",
        "      print(f'Iteracion:{i},     costo:{j},    w:{np.sum(w)},   b:{np.sum(b)}')\n",
        "\n",
        "  return costs,w,b"
      ],
      "metadata": {
        "id": "aGamxZSlOgAL"
      },
      "execution_count": 7,
      "outputs": []
    },
    {
      "cell_type": "markdown",
      "source": [
        "intneto de la implementacion de la propagacion con su respectivo backward"
      ],
      "metadata": {
        "id": "Z-tBpgCH--Un"
      }
    },
    {
      "cell_type": "code",
      "source": [
        "\n",
        "def Neurona(x,y,capas,neuronas,z,g,iter=1000,alpha=0.001):\n",
        "  # capas\n",
        "  a=x\n",
        "  #print(a.shape)\n",
        "  for c in range(capas):\n",
        "    a_new=[]\n",
        "    costs=[]\n",
        "    for n in range(neuronas[c]):\n",
        "      w=0.1*np.random.random(size=list(a.shape))\n",
        "      b=0.1*np.random.random(size=a.shape[1])\n",
        "      j_temp=[]\n",
        "      for i in range(iter):\n",
        "        # Registro de costo\n",
        "        j=J(x,y,w,b,z,g)\n",
        "        j_temp.append(j)\n",
        "        # Actualizacion de pesos\n",
        "        w=w-alpha*dw(x,y,w,b,z,g)\n",
        "        b=b-alpha*db(x,y,w,b,z,g)\n",
        "      a_new.append(g(a,w,b,z))\n",
        "    a=a_new\n",
        "    costs.append(j_temp)\n",
        "    if (n%10==0 ):\n",
        "      print(f'neurono{c,n+1},     costo:{j},    w:{np.sum(w)},   b:{np.sum(b)}')\n",
        "\n",
        "  return costs,w,b"
      ],
      "metadata": {
        "id": "PY2g8w46Rb5l"
      },
      "execution_count": 19,
      "outputs": []
    },
    {
      "cell_type": "markdown",
      "source": [
        "## Propagacion 3 neuronas"
      ],
      "metadata": {
        "id": "NM5adhf7_x54"
      }
    },
    {
      "cell_type": "code",
      "source": [
        "def forward(x,y,capas,neuronas,z,g,iter=1000,alpha=0.001):\n",
        "  # capas\n",
        "  a=x\n",
        "  print(a.shape)\n",
        "  for c in range(capas):\n",
        "    a_new=[]\n",
        "    for n in range(neuronas[c]):\n",
        "      w=0.001*np.random.random(size=a.shape)\n",
        "      b=0.001*np.random.random(size=a.shape)\n",
        "      #j=J(a,y,w,b,z,g)\n",
        "      a_new.append(np.sum(w * a + b))     #relacion del producto punto np.sum(A*B)\n",
        "      print(f'neurono{c,n+1},    costo:{j},    activacion:{np.sum(a)},    w:{np.sum(w)},   b:{np.sum(b)}')\n",
        "    a=np.array(a_new)\n",
        "  return w,b"
      ],
      "metadata": {
        "id": "eTj935FZb9ED"
      },
      "execution_count": 17,
      "outputs": []
    },
    {
      "cell_type": "markdown",
      "source": [
        "#parametros"
      ],
      "metadata": {
        "id": "FSvSYFNfRcsb"
      }
    },
    {
      "cell_type": "code",
      "source": [
        "#parametros iniciales\n",
        "w=np.zeros(train_set_x.shape)\n",
        "b=np.zeros(train_set_y.shape[1])\n",
        "# Parametro de aprendizaje\n",
        "alpha= 0.02\n",
        "w.shape\n",
        "#costos ,w_ ,b_ =Grad_desc(train_set_x,train_set_y,w,b,z,g,iter=100,alpha=0.00001)"
      ],
      "metadata": {
        "id": "XgkKNLR7PPYL",
        "outputId": "376339b7-8a06-48bd-c7ab-2de581afec8f",
        "colab": {
          "base_uri": "https://localhost:8080/"
        }
      },
      "execution_count": 10,
      "outputs": [
        {
          "output_type": "execute_result",
          "data": {
            "text/plain": [
              "(12288, 100)"
            ]
          },
          "metadata": {},
          "execution_count": 10
        }
      ]
    },
    {
      "cell_type": "code",
      "source": [
        "np.random.seed(1235)\n",
        "#Parametros\n",
        "capas=2         #numero l-1\n",
        "neuronas=[2,1]"
      ],
      "metadata": {
        "id": "DziCt7lIPSc3"
      },
      "execution_count": 11,
      "outputs": []
    },
    {
      "cell_type": "code",
      "source": [
        "w,b=forward(train_set_x,train_set_y,capas,neuronas,z,g,iter=100,alpha=0.0001)"
      ],
      "metadata": {
        "id": "eglehFT6Zgsq",
        "outputId": "e37c3bb8-8a51-47bb-f1cd-525e144d2715",
        "colab": {
          "base_uri": "https://localhost:8080/"
        }
      },
      "execution_count": 21,
      "outputs": [
        {
          "output_type": "stream",
          "name": "stdout",
          "text": [
            "(12288, 100)\n",
            "neurono(0, 1),    costo:100,    activacion:559412.5490196078,    w:614.3435343243434,   b:614.723186814139\n",
            "neurono(0, 2),    costo:100,    activacion:559412.5490196078,    w:614.5015595199529,   b:614.5242188470195\n",
            "neurono(1, 1),    costo:100,    activacion:1788.503409149485,    w:0.0010194742688800224,   b:0.0009151833249344977\n"
          ]
        }
      ]
    }
  ]
}