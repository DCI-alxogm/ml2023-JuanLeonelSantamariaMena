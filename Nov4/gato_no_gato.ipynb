{
  "nbformat": 4,
  "nbformat_minor": 0,
  "metadata": {
    "colab": {
      "provenance": [],
      "authorship_tag": "ABX9TyM3ITpzIM+89EFbKqOWjGQf",
      "include_colab_link": true
    },
    "kernelspec": {
      "name": "python3",
      "display_name": "Python 3"
    },
    "language_info": {
      "name": "python"
    }
  },
  "cells": [
    {
      "cell_type": "markdown",
      "metadata": {
        "id": "view-in-github",
        "colab_type": "text"
      },
      "source": [
        "<a href=\"https://colab.research.google.com/github/DCI-alxogm/ml2023-JuanLeonelSantamariaMena/blob/main/Nov4/gato_no_gato.ipynb\" target=\"_parent\"><img src=\"https://colab.research.google.com/assets/colab-badge.svg\" alt=\"Open In Colab\"/></a>"
      ]
    },
    {
      "cell_type": "markdown",
      "source": [
        "# Carga de datos"
      ],
      "metadata": {
        "id": "wNjBf_zrHOuz"
      }
    },
    {
      "cell_type": "code",
      "execution_count": 5,
      "metadata": {
        "id": "20gkXazQ8fb2"
      },
      "outputs": [],
      "source": [
        "import glob\n",
        "import numpy as np\n",
        "import copy\n",
        "import matplotlib.pyplot as plt\n",
        "import h5py\n",
        "import scipy\n",
        "from PIL import Image\n",
        "from scipy import ndimage\n",
        "\n",
        "%matplotlib inline\n"
      ]
    },
    {
      "cell_type": "code",
      "source": [
        "from google.colab import drive\n",
        "drive.mount('/content/drive')"
      ],
      "metadata": {
        "colab": {
          "base_uri": "https://localhost:8080/"
        },
        "id": "vIih6fUIB8Rt",
        "outputId": "201c837e-c192-4e41-aa35-1bedd841d95b"
      },
      "execution_count": 7,
      "outputs": [
        {
          "output_type": "stream",
          "name": "stdout",
          "text": [
            "Drive already mounted at /content/drive; to attempt to forcibly remount, call drive.mount(\"/content/drive\", force_remount=True).\n"
          ]
        }
      ]
    },
    {
      "cell_type": "code",
      "source": [
        "#Los datos corresponden a un subset del dataset cats vs dogs de https://www.kaggle.com/c/dogs-vs-cats\n",
        "files=glob.glob('/content/drive/MyDrive/UGTO/DCI-data/CATS_DOGS/*')"
      ],
      "metadata": {
        "id": "v1tUyDkxEraQ"
      },
      "execution_count": 10,
      "outputs": []
    },
    {
      "cell_type": "code",
      "source": [
        "len(files)"
      ],
      "metadata": {
        "colab": {
          "base_uri": "https://localhost:8080/"
        },
        "id": "v9ixcie0E6B1",
        "outputId": "e8b8dbbb-b576-42f8-aeb2-a7eb67cbbcf0"
      },
      "execution_count": 11,
      "outputs": [
        {
          "output_type": "execute_result",
          "data": {
            "text/plain": [
              "1787"
            ]
          },
          "metadata": {},
          "execution_count": 11
        }
      ]
    },
    {
      "cell_type": "markdown",
      "source": [
        "# Conjunto de datos de prueba"
      ],
      "metadata": {
        "id": "ys6SthtlHaiG"
      }
    },
    {
      "cell_type": "code",
      "source": [
        "#numero de pixeles para nuestras imágenes.\n",
        "num_px=64"
      ],
      "metadata": {
        "id": "E_6O8qGAFDWO"
      },
      "execution_count": 12,
      "outputs": []
    },
    {
      "cell_type": "code",
      "source": [
        "train_x=[]\n",
        "train_y=[]\n",
        "i,j=0,0\n",
        "for file in files[:]:\n",
        "    img=Image.open(file)\n",
        "    img=img.resize((num_px,num_px))\n",
        "    data=np.asarray(img)\n",
        "    if 'dog' in file and i<50:\n",
        "        train_y.append(1)\n",
        "        i +=1\n",
        "        train_x.append(data)\n",
        "        img.close()\n",
        "    if 'cat' in file and j<50:\n",
        "        train_y.append(0)\n",
        "        j +=1\n",
        "        train_x.append(data)\n",
        "        img.close()\n",
        "    if i==50 and j==50:\n",
        "        print(f'50/50:{i}/{j}')\n",
        "        break\n",
        "        img.close()\n",
        "train_y=np.asarray(train_y)\n",
        "train_x=np.asarray(train_x)"
      ],
      "metadata": {
        "id": "MvaJiHhKFGss",
        "colab": {
          "base_uri": "https://localhost:8080/"
        },
        "outputId": "8fc4f4f6-7934-4910-ad8c-e7ea247ce387"
      },
      "execution_count": 13,
      "outputs": [
        {
          "output_type": "stream",
          "name": "stdout",
          "text": [
            "50/50:50/50\n"
          ]
        }
      ]
    },
    {
      "cell_type": "code",
      "source": [
        "plt.imshow(train_x[50])"
      ],
      "metadata": {
        "id": "xz6j2XCHFbrQ",
        "colab": {
          "base_uri": "https://localhost:8080/",
          "height": 450
        },
        "outputId": "1f12edde-843e-4b30-98bd-9735533a7dcd"
      },
      "execution_count": 14,
      "outputs": [
        {
          "output_type": "execute_result",
          "data": {
            "text/plain": [
              "<matplotlib.image.AxesImage at 0x783bd14b2e00>"
            ]
          },
          "metadata": {},
          "execution_count": 14
        },
        {
          "output_type": "display_data",
          "data": {
            "text/plain": [
              "<Figure size 640x480 with 1 Axes>"
            ],
            "image/png": "[encoded data removed]"
          },
          "metadata": {}
        }
      ]
    },
    {
      "cell_type": "code",
      "source": [
        "train_y"
      ],
      "metadata": {
        "colab": {
          "base_uri": "https://localhost:8080/"
        },
        "id": "kliIjIjHIr7r",
        "outputId": "d17be0aa-4844-403d-8deb-735e361fc95b"
      },
      "execution_count": 15,
      "outputs": [
        {
          "output_type": "execute_result",
          "data": {
            "text/plain": [
              "array([0, 0, 0, 0, 0, 0, 0, 0, 0, 0, 0, 0, 0, 0, 0, 0, 0, 0, 0, 0, 0, 0,\n",
              "       0, 0, 0, 0, 0, 0, 0, 0, 0, 0, 0, 0, 0, 0, 0, 0, 0, 0, 0, 0, 0, 0,\n",
              "       0, 0, 0, 0, 0, 0, 1, 1, 1, 1, 1, 1, 1, 1, 1, 1, 1, 1, 1, 1, 1, 1,\n",
              "       1, 1, 1, 1, 1, 1, 1, 1, 1, 1, 1, 1, 1, 1, 1, 1, 1, 1, 1, 1, 1, 1,\n",
              "       1, 1, 1, 1, 1, 1, 1, 1, 1, 1, 1, 1])"
            ]
          },
          "metadata": {},
          "execution_count": 15
        }
      ]
    },
    {
      "cell_type": "code",
      "source": [
        "len(train_y)"
      ],
      "metadata": {
        "id": "16W_CilhFcDZ",
        "colab": {
          "base_uri": "https://localhost:8080/"
        },
        "outputId": "8562cc4f-6e6d-450a-b395-40707de8d5c4"
      },
      "execution_count": 16,
      "outputs": [
        {
          "output_type": "execute_result",
          "data": {
            "text/plain": [
              "100"
            ]
          },
          "metadata": {},
          "execution_count": 16
        }
      ]
    },
    {
      "cell_type": "markdown",
      "source": [
        "#Preparamos la base"
      ],
      "metadata": {
        "id": "iAI45pXcGxt8"
      }
    },
    {
      "cell_type": "code",
      "source": [
        "test_x=[]\n",
        "test_y=[]\n",
        "i,j=0,0\n",
        "for file in files[:]:\n",
        "    #print(file)\n",
        "    img=Image.open(file)\n",
        "    img=img.resize((num_px,num_px))\n",
        "    data=np.asarray(img)\n",
        "    if 'dog' in file and i<99:\n",
        "        i += 1\n",
        "        if i>49:\n",
        "          test_y.append(1)\n",
        "          test_x.append(data)\n",
        "          #print(i)\n",
        "        img.close()\n",
        "    if 'cat' in file and j<99:\n",
        "        j += 1\n",
        "        if j>49:\n",
        "          test_y.append(0)\n",
        "          test_x.append(data)\n",
        "        img.close()\n",
        "    if i==100 and j==100:\n",
        "        print(f'50/50:{i}/{j}')\n",
        "        break\n",
        "        img.close\n",
        "test_y=np.asarray(test_y)\n",
        "test_x=np.asarray(test_x)"
      ],
      "metadata": {
        "id": "LLL6TEi5FcGF"
      },
      "execution_count": 18,
      "outputs": []
    },
    {
      "cell_type": "code",
      "source": [
        "len(test_x)"
      ],
      "metadata": {
        "colab": {
          "base_uri": "https://localhost:8080/"
        },
        "id": "cXYaZVfZL2FB",
        "outputId": "7d729484-c88d-42a7-a38e-7833e0116aec"
      },
      "execution_count": 19,
      "outputs": [
        {
          "output_type": "execute_result",
          "data": {
            "text/plain": [
              "100"
            ]
          },
          "metadata": {},
          "execution_count": 19
        }
      ]
    },
    {
      "cell_type": "code",
      "source": [
        "plt.imshow(test_x[0])"
      ],
      "metadata": {
        "id": "eWUxdh7KG6xU",
        "colab": {
          "base_uri": "https://localhost:8080/",
          "height": 450
        },
        "outputId": "fb74c38d-6499-4f30-bc8a-6873028640d0"
      },
      "execution_count": 20,
      "outputs": [
        {
          "output_type": "execute_result",
          "data": {
            "text/plain": [
              "<matplotlib.image.AxesImage at 0x783bcee329e0>"
            ]
          },
          "metadata": {},
          "execution_count": 20
        },
        {
          "output_type": "display_data",
          "data": {
            "text/plain": [
              "<Figure size 640x480 with 1 Axes>"
            ],
            "image/png": "[encoded data removed]"
          },
          "metadata": {}
        }
      ]
    },
    {
      "cell_type": "code",
      "source": [
        "train_x_flatten = train_x.reshape(train_x.shape[0], -1).T\n",
        "\n",
        "test_x_flatten = test_x.reshape(test_x.shape[0], -1).T\n",
        "\n",
        "train_set_y=train_y.reshape((1,train_y.shape[0]))\n",
        "test_set_y=test_y.reshape((1,test_y.shape[0]))"
      ],
      "metadata": {
        "id": "g8SOdfg_HBEW"
      },
      "execution_count": 21,
      "outputs": []
    },
    {
      "cell_type": "code",
      "source": [
        "train_set_x= train_x_flatten/255\n",
        "test_set_x= test_x_flatten/255"
      ],
      "metadata": {
        "id": "PidwB3VCRqrf"
      },
      "execution_count": 22,
      "outputs": []
    },
    {
      "cell_type": "code",
      "source": [
        "train_x_flatten.shape"
      ],
      "metadata": {
        "colab": {
          "base_uri": "https://localhost:8080/"
        },
        "id": "QhjPxJEjSy8D",
        "outputId": "793ec7bd-5628-4394-b67b-061828c759d4"
      },
      "execution_count": 23,
      "outputs": [
        {
          "output_type": "execute_result",
          "data": {
            "text/plain": [
              "(12288, 100)"
            ]
          },
          "metadata": {},
          "execution_count": 23
        }
      ]
    },
    {
      "cell_type": "markdown",
      "source": [
        "# Funciones"
      ],
      "metadata": {
        "id": "M4KJlrKqFxD2"
      }
    },
    {
      "cell_type": "code",
      "source": [
        "y_=sigma(train_set_x,w,b,z)\n",
        "m=train_set_y.shape[1]\n",
        "j=np.sum(train_set_y*np.log(y_)+(1-train_set_y)*np.log(1-y_))"
      ],
      "metadata": {
        "id": "8zjT6e2DF8o2"
      },
      "execution_count": 52,
      "outputs": []
    },
    {
      "cell_type": "code",
      "source": [
        "J=J(train_set_x,train_set_y,w,b,z,sigma)"
      ],
      "metadata": {
        "id": "ctGE4YvPGijs"
      },
      "execution_count": 49,
      "outputs": []
    },
    {
      "cell_type": "code",
      "source": [
        "train_set_y.shape[1]"
      ],
      "metadata": {
        "id": "WuGXfOgcIw8f",
        "outputId": "eba59f59-7567-4d5f-c653-035cde5c4a3d",
        "colab": {
          "base_uri": "https://localhost:8080/"
        }
      },
      "execution_count": 47,
      "outputs": [
        {
          "output_type": "execute_result",
          "data": {
            "text/plain": [
              "100"
            ]
          },
          "metadata": {},
          "execution_count": 47
        }
      ]
    },
    {
      "cell_type": "code",
      "source": [
        "w-train_set_x@(y_-train_set_y)"
      ],
      "metadata": {
        "id": "9uXWXuQqIOMS",
        "outputId": "b859c8fc-074d-4019-f030-c9e9a4320fe8",
        "colab": {
          "base_uri": "https://localhost:8080/"
        }
      },
      "execution_count": 58,
      "outputs": [
        {
          "output_type": "execute_result",
          "data": {
            "text/plain": [
              "array([[-24.16862745, -24.16862745, -24.16862745, ...,  24.16862745,\n",
              "         24.16862745,  24.16862745],\n",
              "       [-23.1372549 , -23.1372549 , -23.1372549 , ...,  23.1372549 ,\n",
              "         23.1372549 ,  23.1372549 ],\n",
              "       [-21.55490196, -21.55490196, -21.55490196, ...,  21.55490196,\n",
              "         21.55490196,  21.55490196],\n",
              "       ...,\n",
              "       [-24.90980392, -24.90980392, -24.90980392, ...,  24.90980392,\n",
              "         24.90980392,  24.90980392],\n",
              "       [-23.90588235, -23.90588235, -23.90588235, ...,  23.90588235,\n",
              "         23.90588235,  23.90588235],\n",
              "       [-23.09019608, -23.09019608, -23.09019608, ...,  23.09019608,\n",
              "         23.09019608,  23.09019608]])"
            ]
          },
          "metadata": {},
          "execution_count": 58
        }
      ]
    },
    {
      "cell_type": "code",
      "source": [
        "print(b-alpha*db(train_set_x,train_set_y,w,b,z,sigma))"
      ],
      "metadata": {
        "id": "cs_N-IlqNtaf",
        "outputId": "7cc31e77-77d6-4d35-e30d-d006b3e1459a",
        "colab": {
          "base_uri": "https://localhost:8080/"
        }
      },
      "execution_count": 70,
      "outputs": [
        {
          "output_type": "stream",
          "name": "stdout",
          "text": [
            "[[-0.0001 -0.0001 -0.0001 ...  0.0001  0.0001  0.0001]\n",
            " [-0.0001 -0.0001 -0.0001 ...  0.0001  0.0001  0.0001]\n",
            " [-0.0001 -0.0001 -0.0001 ...  0.0001  0.0001  0.0001]\n",
            " ...\n",
            " [-0.0001 -0.0001 -0.0001 ...  0.0001  0.0001  0.0001]\n",
            " [-0.0001 -0.0001 -0.0001 ...  0.0001  0.0001  0.0001]\n",
            " [-0.0001 -0.0001 -0.0001 ...  0.0001  0.0001  0.0001]]\n"
          ]
        }
      ]
    },
    {
      "cell_type": "markdown",
      "source": [
        "$$z= \\omega^T x+b$$\n",
        "\n",
        "$$\\sigma(z)=\\frac{1}{1+e^{-z}}$$"
      ],
      "metadata": {
        "id": "LDFEioyfTvsj"
      }
    },
    {
      "cell_type": "code",
      "source": [
        "#funcion Z\n",
        "def z(x,w,b):\n",
        "  return w.T @ x + b\n",
        "#funcion sigma\n",
        "def sigma(x,w,b,z):\n",
        "  return (1/(1+np.exp(-z(x,w,b))))\n",
        "#funcion costo\n",
        "def J(x,y,w,b,z,sigma):\n",
        "  y_=sigma(x,w,b,z)\n",
        "  m=y.shape[1]\n",
        "  j=np.sum(y*np.log(y_)+(1-y)*np.log(1-y_))\n",
        "  return -j/m\n"
      ],
      "metadata": {
        "id": "DKBiu_3NRvI0"
      },
      "execution_count": 48,
      "outputs": []
    },
    {
      "cell_type": "markdown",
      "source": [
        "$\\omega = \\omega -\\alpha\\frac{dJ}{d\\omega}=\\omega -\\alpha d\\omega$\n",
        "\n",
        "$b = b -\\alpha\\frac{dJ}{db}=b -\\alpha db$\n",
        "\n",
        "  * $d\\omega=\\frac{1}{m} x dz$\n",
        "  * $db=\\frac{1}{m}dz$\n",
        "  * $dz= a-y$"
      ],
      "metadata": {
        "id": "-POJcHhdJnBs"
      }
    },
    {
      "cell_type": "code",
      "source": [
        "#derivada\n",
        "def dw(x,y,w,b,z,sigma):\n",
        "  y_=sigma(x,w,b,z)\n",
        "  m=y.shape[1]\n",
        "  return (1/m)*x@(y_-y)\n",
        "\n",
        "def db(x,y,w,b,z,sigma):\n",
        "  y_=sigma(x,w,b,z)\n",
        "  m=y.shape[1]\n",
        "  return (1/m)*(y_-y)\n",
        "\n",
        "def Grad_desc(x,y,w,b,iter=1000,alpha=0.01,z,sigma):\n",
        "  for i in range(iter):\n",
        "    #costo\n",
        "    j=J(x,y,w,b,z,sigma)\n",
        "    #pesos\n",
        "    w_0=w-alpha*dw(x,y,w,b,z,sigma)\n",
        "    b_0=w-alpha*dw(x,y,w,b,z,sigma)\n",
        "    if\n",
        "  return w\n",
        "\n"
      ],
      "metadata": {
        "id": "6_6YFMUuLYDA"
      },
      "execution_count": 63,
      "outputs": []
    },
    {
      "cell_type": "code",
      "source": [
        "#parametros iniciales\n",
        "w=np.zeros(train_x_flatten.shape)\n",
        "b=0.\n",
        "# Parametro de aprendizaje\n",
        "alpha= 0.02\n"
      ],
      "metadata": {
        "id": "uCPHAf_XWyM9"
      },
      "execution_count": 69,
      "outputs": []
    },
    {
      "cell_type": "code",
      "source": [
        "def propagate()"
      ],
      "metadata": {
        "id": "To0xVCp-afo0"
      },
      "execution_count": null,
      "outputs": []
    },
    {
      "cell_type": "code",
      "source": [
        "train_x_flatten.shape[1]"
      ],
      "metadata": {
        "colab": {
          "base_uri": "https://localhost:8080/"
        },
        "id": "SE3XQDcgYFcq",
        "outputId": "8e4daa78-fa51-47a9-ac7b-8a6689335270"
      },
      "execution_count": null,
      "outputs": [
        {
          "output_type": "execute_result",
          "data": {
            "text/plain": [
              "100"
            ]
          },
          "metadata": {},
          "execution_count": 123
        }
      ]
    },
    {
      "cell_type": "code",
      "source": [
        "1/(1+np.exp(-w.T @ train_x_flatten))"
      ],
      "metadata": {
        "colab": {
          "base_uri": "https://localhost:8080/"
        },
        "id": "Y7hJJLlgZVjh",
        "outputId": "fa6f97e2-0336-471a-b698-2717248c8cab"
      },
      "execution_count": null,
      "outputs": [
        {
          "output_type": "execute_result",
          "data": {
            "text/plain": [
              "array([[1., 1., 1., ..., 1., 1., 1.],\n",
              "       [1., 1., 1., ..., 1., 1., 1.],\n",
              "       [1., 1., 1., ..., 1., 1., 1.],\n",
              "       ...,\n",
              "       [1., 1., 1., ..., 1., 1., 1.],\n",
              "       [1., 1., 1., ..., 1., 1., 1.],\n",
              "       [1., 1., 1., ..., 1., 1., 1.]])"
            ]
          },
          "metadata": {},
          "execution_count": 118
        }
      ]
    }
  ]
}