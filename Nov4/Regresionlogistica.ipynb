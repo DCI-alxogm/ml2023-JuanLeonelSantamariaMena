{
  "nbformat": 4,
  "nbformat_minor": 0,
  "metadata": {
    "colab": {
      "provenance": [],
      "authorship_tag": "ABX9TyO+pEnAa1Anw6LifoGmyT/b",
      "include_colab_link": true
    },
    "kernelspec": {
      "name": "python3",
      "display_name": "Python 3"
    },
    "language_info": {
      "name": "python"
    }
  },
  "cells": [
    {
      "cell_type": "markdown",
      "metadata": {
        "id": "view-in-github",
        "colab_type": "text"
      },
      "source": [
        "<a href=\"https://colab.research.google.com/github/DCI-alxogm/ml2023-JuanLeonelSantamariaMena/blob/main/Nov4/Regresionlogistica.ipynb\" target=\"_parent\"><img src=\"https://colab.research.google.com/assets/colab-badge.svg\" alt=\"Open In Colab\"/></a>"
      ]
    },
    {
      "cell_type": "markdown",
      "source": [
        "# Carga de datos"
      ],
      "metadata": {
        "id": "wNjBf_zrHOuz"
      }
    },
    {
      "cell_type": "code",
      "execution_count": 160,
      "metadata": {
        "id": "20gkXazQ8fb2"
      },
      "outputs": [],
      "source": [
        "import glob\n",
        "import numpy as np\n",
        "import copy\n",
        "import matplotlib.pyplot as plt\n",
        "import h5py\n",
        "import scipy\n",
        "from PIL import Image\n",
        "from scipy import ndimage\n",
        "\n",
        "%matplotlib inline\n"
      ]
    },
    {
      "cell_type": "code",
      "source": [
        "from google.colab import drive\n",
        "drive.mount('/content/drive')"
      ],
      "metadata": {
        "colab": {
          "base_uri": "https://localhost:8080/"
        },
        "id": "vIih6fUIB8Rt",
        "outputId": "63b66557-ce88-444d-8380-e89b66de919a"
      },
      "execution_count": 161,
      "outputs": [
        {
          "output_type": "stream",
          "name": "stdout",
          "text": [
            "Drive already mounted at /content/drive; to attempt to forcibly remount, call drive.mount(\"/content/drive\", force_remount=True).\n"
          ]
        }
      ]
    },
    {
      "cell_type": "code",
      "source": [
        "#Los datos corresponden a un subset del dataset cats vs dogs de https://www.kaggle.com/c/dogs-vs-cats\n",
        "files=glob.glob('/content/drive/MyDrive/UGTO/DCI-data/CATS_DOGS/*')"
      ],
      "metadata": {
        "id": "v1tUyDkxEraQ"
      },
      "execution_count": 162,
      "outputs": []
    },
    {
      "cell_type": "code",
      "source": [
        "len(files)"
      ],
      "metadata": {
        "colab": {
          "base_uri": "https://localhost:8080/"
        },
        "id": "v9ixcie0E6B1",
        "outputId": "efcf1dd0-b7a7-427e-a728-73c3eed1c0fc"
      },
      "execution_count": 163,
      "outputs": [
        {
          "output_type": "execute_result",
          "data": {
            "text/plain": [
              "1787"
            ]
          },
          "metadata": {},
          "execution_count": 163
        }
      ]
    },
    {
      "cell_type": "markdown",
      "source": [
        "# Conjunto de datos de prueba"
      ],
      "metadata": {
        "id": "ys6SthtlHaiG"
      }
    },
    {
      "cell_type": "code",
      "source": [
        "#numero de pixeles para nuestras imágenes.\n",
        "num_px=64"
      ],
      "metadata": {
        "id": "E_6O8qGAFDWO"
      },
      "execution_count": 164,
      "outputs": []
    },
    {
      "cell_type": "code",
      "source": [
        "train_x=[]\n",
        "train_y=[]\n",
        "i,j=0,0\n",
        "for file in files[:]:\n",
        "    img=Image.open(file)\n",
        "    img=img.resize((num_px,num_px))\n",
        "    data=np.asarray(img)\n",
        "    if 'dog' in file and i<50:\n",
        "        train_y.append(1)\n",
        "        i +=1\n",
        "        train_x.append(data)\n",
        "        img.close()\n",
        "    if 'cat' in file and j<50:\n",
        "        train_y.append(0)\n",
        "        j +=1\n",
        "        train_x.append(data)\n",
        "        img.close()\n",
        "    if i==50 and j==50:\n",
        "        print(f'50/50:{i}/{j}')\n",
        "        break\n",
        "        img.close()\n",
        "train_y=np.asarray(train_y)\n",
        "train_x=np.asarray(train_x)"
      ],
      "metadata": {
        "id": "MvaJiHhKFGss",
        "colab": {
          "base_uri": "https://localhost:8080/"
        },
        "outputId": "3303d1a3-a087-415c-b1f5-b6dab28c45e0"
      },
      "execution_count": 165,
      "outputs": [
        {
          "output_type": "stream",
          "name": "stdout",
          "text": [
            "50/50:50/50\n"
          ]
        }
      ]
    },
    {
      "cell_type": "code",
      "source": [
        "plt.imshow(train_x[50])"
      ],
      "metadata": {
        "id": "xz6j2XCHFbrQ",
        "colab": {
          "base_uri": "https://localhost:8080/",
          "height": 0
        },
        "outputId": "dd0053ec-cb60-4179-fd81-0eb7f2ce3731"
      },
      "execution_count": 166,
      "outputs": [
        {
          "output_type": "execute_result",
          "data": {
            "text/plain": [
              "<matplotlib.image.AxesImage at 0x7c146f8fb1c0>"
            ]
          },
          "metadata": {},
          "execution_count": 166
        },
        {
          "output_type": "display_data",
          "data": {
            "text/plain": [
              "<Figure size 640x480 with 1 Axes>"
            ],
            "image/png": "[encoded data removed]"
          },
          "metadata": {}
        }
      ]
    },
    {
      "cell_type": "code",
      "source": [
        "train_y"
      ],
      "metadata": {
        "colab": {
          "base_uri": "https://localhost:8080/"
        },
        "id": "kliIjIjHIr7r",
        "outputId": "7fed345a-5494-4e38-c11d-e572cf82f513"
      },
      "execution_count": 167,
      "outputs": [
        {
          "output_type": "execute_result",
          "data": {
            "text/plain": [
              "array([0, 0, 0, 0, 0, 0, 0, 0, 0, 0, 0, 0, 0, 0, 0, 0, 0, 0, 0, 0, 0, 0,\n",
              "       0, 0, 0, 0, 0, 0, 0, 0, 0, 0, 0, 0, 0, 0, 0, 0, 0, 0, 0, 0, 0, 0,\n",
              "       0, 0, 0, 0, 0, 0, 1, 1, 1, 1, 1, 1, 1, 1, 1, 1, 1, 1, 1, 1, 1, 1,\n",
              "       1, 1, 1, 1, 1, 1, 1, 1, 1, 1, 1, 1, 1, 1, 1, 1, 1, 1, 1, 1, 1, 1,\n",
              "       1, 1, 1, 1, 1, 1, 1, 1, 1, 1, 1, 1])"
            ]
          },
          "metadata": {},
          "execution_count": 167
        }
      ]
    },
    {
      "cell_type": "code",
      "source": [
        "len(train_y)"
      ],
      "metadata": {
        "id": "16W_CilhFcDZ",
        "colab": {
          "base_uri": "https://localhost:8080/"
        },
        "outputId": "88c19301-99b1-43af-8cb8-67154cc9854c"
      },
      "execution_count": 168,
      "outputs": [
        {
          "output_type": "execute_result",
          "data": {
            "text/plain": [
              "100"
            ]
          },
          "metadata": {},
          "execution_count": 168
        }
      ]
    },
    {
      "cell_type": "markdown",
      "source": [
        "#Preparamos la base"
      ],
      "metadata": {
        "id": "iAI45pXcGxt8"
      }
    },
    {
      "cell_type": "code",
      "source": [
        "test_x=[]\n",
        "test_y=[]\n",
        "i,j=0,0\n",
        "for file in files[:]:\n",
        "    #print(file)\n",
        "    img=Image.open(file)\n",
        "    img=img.resize((num_px,num_px))\n",
        "    data=np.asarray(img)\n",
        "    if 'dog' in file and i<99:\n",
        "        i += 1\n",
        "        if i>49:\n",
        "          test_y.append(1)\n",
        "          test_x.append(data)\n",
        "          #print(i)\n",
        "        img.close()\n",
        "    if 'cat' in file and j<99:\n",
        "        j += 1\n",
        "        if j>49:\n",
        "          test_y.append(0)\n",
        "          test_x.append(data)\n",
        "        img.close()\n",
        "    if i==100 and j==100:\n",
        "        print(f'50/50:{i}/{j}')\n",
        "        break\n",
        "        img.close\n",
        "test_y=np.asarray(test_y)\n",
        "test_x=np.asarray(test_x)"
      ],
      "metadata": {
        "id": "LLL6TEi5FcGF"
      },
      "execution_count": 169,
      "outputs": []
    },
    {
      "cell_type": "code",
      "source": [
        "len(test_x)"
      ],
      "metadata": {
        "colab": {
          "base_uri": "https://localhost:8080/"
        },
        "id": "cXYaZVfZL2FB",
        "outputId": "ffc2cdf7-3a6b-4b1b-9914-ee89dc2a6a8b"
      },
      "execution_count": 170,
      "outputs": [
        {
          "output_type": "execute_result",
          "data": {
            "text/plain": [
              "100"
            ]
          },
          "metadata": {},
          "execution_count": 170
        }
      ]
    },
    {
      "cell_type": "code",
      "source": [
        "plt.imshow(test_x[0])"
      ],
      "metadata": {
        "id": "eWUxdh7KG6xU",
        "colab": {
          "base_uri": "https://localhost:8080/",
          "height": 0
        },
        "outputId": "509a5065-839c-4e15-cf02-b5f1dc086f17"
      },
      "execution_count": 171,
      "outputs": [
        {
          "output_type": "execute_result",
          "data": {
            "text/plain": [
              "<matplotlib.image.AxesImage at 0x7c146f7c2e00>"
            ]
          },
          "metadata": {},
          "execution_count": 171
        },
        {
          "output_type": "display_data",
          "data": {
            "text/plain": [
              "<Figure size 640x480 with 1 Axes>"
            ],
            "image/png": "[encoded data removed]"
          },
          "metadata": {}
        }
      ]
    },
    {
      "cell_type": "code",
      "source": [
        "train_x_flatten = train_x.reshape(train_x.shape[0], -1).T\n",
        "\n",
        "test_x_flatten = test_x.reshape(test_x.shape[0], -1).T\n",
        "\n",
        "train_set_y=train_y.reshape((1,train_y.shape[0]))\n",
        "test_set_y=test_y.reshape((1,test_y.shape[0]))"
      ],
      "metadata": {
        "id": "g8SOdfg_HBEW"
      },
      "execution_count": 172,
      "outputs": []
    },
    {
      "cell_type": "code",
      "source": [
        "train_set_x= train_x_flatten/255\n",
        "test_set_x= test_x_flatten/255"
      ],
      "metadata": {
        "id": "PidwB3VCRqrf"
      },
      "execution_count": 173,
      "outputs": []
    },
    {
      "cell_type": "code",
      "source": [
        "train_x_flatten.shape"
      ],
      "metadata": {
        "colab": {
          "base_uri": "https://localhost:8080/"
        },
        "id": "QhjPxJEjSy8D",
        "outputId": "e86e60a3-0887-400f-9cde-89e8cb316d45"
      },
      "execution_count": 174,
      "outputs": [
        {
          "output_type": "execute_result",
          "data": {
            "text/plain": [
              "(12288, 100)"
            ]
          },
          "metadata": {},
          "execution_count": 174
        }
      ]
    },
    {
      "cell_type": "markdown",
      "source": [
        "# Funciones"
      ],
      "metadata": {
        "id": "M4KJlrKqFxD2"
      }
    },
    {
      "cell_type": "markdown",
      "source": [
        "$$z= \\omega^T x+b$$\n",
        "\n",
        "$$\\sigma(z)=\\frac{1}{1+e^{-z}}$$"
      ],
      "metadata": {
        "id": "LDFEioyfTvsj"
      }
    },
    {
      "cell_type": "code",
      "source": [
        "#funcion Z\n",
        "def z(x,w,b):\n",
        "  return w.T @ x + b\n",
        "#funcion sigma\n",
        "def sigma(x,w,b,z):\n",
        "  return (1/(1+np.exp(-z(x,w,b))))\n",
        "#funcion costo\n",
        "def J(x,y,w,b,z,sigma):\n",
        "  y_=sigma(x,w,b,z)\n",
        "  m=y.shape[1]\n",
        "  j=np.sum(y*np.log(y_)+(1-y)*np.log(1-y_))\n",
        "  return -j/m\n"
      ],
      "metadata": {
        "id": "DKBiu_3NRvI0"
      },
      "execution_count": 365,
      "outputs": []
    },
    {
      "cell_type": "markdown",
      "source": [
        "##Derivadas\n",
        "$\\omega = \\omega -\\alpha\\frac{dJ}{d\\omega}=\\omega -\\alpha d\\omega$\n",
        "\n",
        "$b = b -\\alpha\\frac{dJ}{db}=b -\\alpha db$\n",
        "\n",
        "  * $d\\omega=\\frac{1}{m} x dz$\n",
        "  * $db=\\frac{1}{m}dz$\n",
        "  * $dz= a-y$"
      ],
      "metadata": {
        "id": "-POJcHhdJnBs"
      }
    },
    {
      "cell_type": "code",
      "source": [
        "#derivada\n",
        "def dw(x,y,w,b,z,sigma):\n",
        "  y_=sigma(x,w,b,z)\n",
        "  m=y.shape[1]\n",
        "  return (1/m)*x@(y_-y)\n",
        "\n",
        "def db(x,y,w,b,z,sigma):\n",
        "  y_=sigma(x,w,b,z)\n",
        "  m=y.shape[1]\n",
        "  return (1/m)*(y_-y)\n",
        "\n",
        "def Grad_desc(x,y,w,b,z,sigma,iter=1000,alpha=0.001):\n",
        "  costs=[]\n",
        "  for i in range(iter):\n",
        "    # Registro de costo\n",
        "    j=J(x,y,w,b,z,sigma)\n",
        "    costs.append(j)\n",
        "    # Actualizacion de pesos\n",
        "    w=w-alpha*dw(x,y,w,b,z,sigma)\n",
        "    b=b-alpha*db(x,y,w,b,z,sigma)\n",
        "    if (i%10==0 ):\n",
        "      print(f'Iteracion:{i},     costo:{j},    w:{np.sum(w)},   b:{np.sum(b)}')\n",
        "\n",
        "  return costs,w,b"
      ],
      "metadata": {
        "id": "6_6YFMUuLYDA"
      },
      "execution_count": 379,
      "outputs": []
    },
    {
      "cell_type": "markdown",
      "source": [
        "##Pruebas"
      ],
      "metadata": {
        "id": "37-e3PCKzoII"
      }
    },
    {
      "cell_type": "code",
      "source": [
        "#parametros iniciales\n",
        "w=np.zeros(train_set_x.shape)\n",
        "b=np.zeros(train_set_y.shape[1])\n",
        "# Parametro de aprendizaje\n",
        "alpha= 0.02\n",
        "w.shape"
      ],
      "metadata": {
        "id": "uCPHAf_XWyM9",
        "outputId": "1a34dcf6-4b4d-4f72-8247-2d16438add8b",
        "colab": {
          "base_uri": "https://localhost:8080/"
        }
      },
      "execution_count": 380,
      "outputs": [
        {
          "output_type": "execute_result",
          "data": {
            "text/plain": [
              "(12288, 100)"
            ]
          },
          "metadata": {},
          "execution_count": 380
        }
      ]
    },
    {
      "cell_type": "code",
      "source": [
        "b=b-alpha*db(train_set_x,train_set_y,w,b,z,sigma)\n",
        "b"
      ],
      "metadata": {
        "id": "sFsadv_y9BJZ",
        "outputId": "c5ecf2b5-a874-47d7-cb46-38c27ac4441a",
        "colab": {
          "base_uri": "https://localhost:8080/"
        }
      },
      "execution_count": 378,
      "outputs": [
        {
          "output_type": "execute_result",
          "data": {
            "text/plain": [
              "array([[-0.05018511, -0.05018511, -0.05018511, ...,  0.05018511,\n",
              "         0.05018511,  0.05018511],\n",
              "       [-0.05018511, -0.05018511, -0.05018511, ...,  0.05018511,\n",
              "         0.05018511,  0.05018511],\n",
              "       [-0.05018511, -0.05018511, -0.05018511, ...,  0.05018511,\n",
              "         0.05018511,  0.05018511],\n",
              "       ...,\n",
              "       [-0.05018511, -0.05018511, -0.05018511, ...,  0.05018511,\n",
              "         0.05018511,  0.05018511],\n",
              "       [-0.05018511, -0.05018511, -0.05018511, ...,  0.05018511,\n",
              "         0.05018511,  0.05018511],\n",
              "       [-0.05018511, -0.05018511, -0.05018511, ...,  0.05018511,\n",
              "         0.05018511,  0.05018511]])"
            ]
          },
          "metadata": {},
          "execution_count": 378
        }
      ]
    },
    {
      "cell_type": "code",
      "source": [
        "costos ,w_ ,b_ =Grad_desc(train_set_x,train_set_y,w,b,z,sigma,iter=100,alpha=0.00001)"
      ],
      "metadata": {
        "id": "5mwkbwUV3-sq",
        "outputId": "738b1bd6-c97c-4afe-fbea-0038b1a143bb",
        "colab": {
          "base_uri": "https://localhost:8080/"
        }
      },
      "execution_count": 372,
      "outputs": [
        {
          "output_type": "stream",
          "name": "stdout",
          "text": [
            "Iteracion:0,     costo:66.85595444657655,    w:2.962650198952421e-16,   b:-3.0252245153405966e-11\n",
            "Iteracion:10,     costo:67.06306784379973,    w:-0.034621138091046465,   b:-1.7337382107740495e-07\n",
            "Iteracion:20,     costo:67.68268953123008,    w:-0.1351395145152057,   b:-1.2144773444688894e-06\n",
            "Iteracion:30,     costo:68.70934096833476,    w:-0.30531957421688566,   b:-3.904819120270631e-06\n",
            "Iteracion:40,     costo:70.13405522596962,    w:-0.5481345170947439,   b:-8.97413310596562e-06\n",
            "Iteracion:50,     costo:71.9447223888429,    w:-0.8655431059969109,   b:-1.705458079936939e-05\n",
            "Iteracion:60,     costo:74.1265287394513,    w:-1.258329213029025,   b:-2.864340759334283e-05\n",
            "Iteracion:70,     costo:76.66245441401756,    w:-1.7260216723622221,   b:-4.4077772656692105e-05\n",
            "Iteracion:80,     costo:79.53379509498824,    w:-2.2669007773515744,   b:-6.352355091832074e-05\n",
            "Iteracion:90,     costo:82.7206776529346,    w:-2.8780862089615904,   b:-8.697790333433986e-05\n"
          ]
        }
      ]
    },
    {
      "cell_type": "code",
      "source": [
        "plt.plot(costos)"
      ],
      "metadata": {
        "id": "OzdVkVTs4r6R",
        "outputId": "6c1d89ac-3f33-4701-e1d1-089d9a42f22f",
        "colab": {
          "base_uri": "https://localhost:8080/",
          "height": 447
        }
      },
      "execution_count": 373,
      "outputs": [
        {
          "output_type": "execute_result",
          "data": {
            "text/plain": [
              "[<matplotlib.lines.Line2D at 0x7c146f514040>]"
            ]
          },
          "metadata": {},
          "execution_count": 373
        },
        {
          "output_type": "display_data",
          "data": {
            "text/plain": [
              "<Figure size 640x480 with 1 Axes>"
            ],
            "image/png": "[encoded data removed]"
          },
          "metadata": {}
        }
      ]
    },
    {
      "cell_type": "code",
      "source": [
        "def propagate()"
      ],
      "metadata": {
        "id": "To0xVCp-afo0"
      },
      "execution_count": null,
      "outputs": []
    },
    {
      "cell_type": "code",
      "source": [
        "np.log(0.5)"
      ],
      "metadata": {
        "colab": {
          "base_uri": "https://localhost:8080/"
        },
        "id": "SE3XQDcgYFcq",
        "outputId": "0f848dd0-14da-424f-e604-fd03fdd406b3"
      },
      "execution_count": 224,
      "outputs": [
        {
          "output_type": "execute_result",
          "data": {
            "text/plain": [
              "-0.6931471805599453"
            ]
          },
          "metadata": {},
          "execution_count": 224
        }
      ]
    },
    {
      "cell_type": "code",
      "source": [
        "1/(1+np.exp(-w.T @ train_x_flatten))"
      ],
      "metadata": {
        "colab": {
          "base_uri": "https://localhost:8080/"
        },
        "id": "Y7hJJLlgZVjh",
        "outputId": "fa6f97e2-0336-471a-b698-2717248c8cab"
      },
      "execution_count": null,
      "outputs": [
        {
          "output_type": "execute_result",
          "data": {
            "text/plain": [
              "array([[1., 1., 1., ..., 1., 1., 1.],\n",
              "       [1., 1., 1., ..., 1., 1., 1.],\n",
              "       [1., 1., 1., ..., 1., 1., 1.],\n",
              "       ...,\n",
              "       [1., 1., 1., ..., 1., 1., 1.],\n",
              "       [1., 1., 1., ..., 1., 1., 1.],\n",
              "       [1., 1., 1., ..., 1., 1., 1.]])"
            ]
          },
          "metadata": {},
          "execution_count": 118
        }
      ]
    }
  ]
}