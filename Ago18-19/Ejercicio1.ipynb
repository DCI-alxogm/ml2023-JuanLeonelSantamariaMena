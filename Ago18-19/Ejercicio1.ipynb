{
  "nbformat": 4,
  "nbformat_minor": 0,
  "metadata": {
    "colab": {
      "provenance": [],
      "authorship_tag": "ABX9TyP1FSOxvMA5uf3MfNNPnw/L",
      "include_colab_link": true
    },
    "kernelspec": {
      "name": "python3",
      "display_name": "Python 3"
    },
    "language_info": {
      "name": "python"
    }
  },
  "cells": [
    {
      "cell_type": "markdown",
      "metadata": {
        "id": "view-in-github",
        "colab_type": "text"
      },
      "source": [
        "<a href=\"https://colab.research.google.com/github/DCI-alxogm/ml2023-JuanLeonelSantamariaMena/blob/main/Ago18-19/Ejercicio1.ipynb\" target=\"_parent\"><img src=\"https://colab.research.google.com/assets/colab-badge.svg\" alt=\"Open In Colab\"/></a>"
      ]
    },
    {
      "cell_type": "code",
      "execution_count": 3,
      "metadata": {
        "id": "Ez9fRNlZ6eip"
      },
      "outputs": [],
      "source": [
        "import numpy as np\n",
        "import matplotlib.pyplot as plt"
      ]
    },
    {
      "cell_type": "code",
      "source": [
        "from google.colab import drive\n",
        "drive.mount('/content/drive')"
      ],
      "metadata": {
        "colab": {
          "base_uri": "https://localhost:8080/"
        },
        "id": "juRIRRpY87Ji",
        "outputId": "10fb2789-75c2-44cc-9417-b3ebc5e78722"
      },
      "execution_count": 1,
      "outputs": [
        {
          "output_type": "stream",
          "name": "stdout",
          "text": [
            "Mounted at /content/drive\n"
          ]
        }
      ]
    },
    {
      "cell_type": "code",
      "source": [
        "data=np.loadtxt(\"/content/drive/MyDrive/Colab Notebooks/olympic100m_men.txt\",delimiter = ',').T\n",
        "data"
      ],
      "metadata": {
        "colab": {
          "base_uri": "https://localhost:8080/"
        },
        "id": "NzUIwH7Y6uCN",
        "outputId": "e29e7c1d-6588-4c1c-d091-dd7b4413b3ff"
      },
      "execution_count": 5,
      "outputs": [
        {
          "output_type": "execute_result",
          "data": {
            "text/plain": [
              "array([[1896.  , 1900.  , 1904.  , 1906.  , 1908.  , 1912.  , 1920.  ,\n",
              "        1924.  , 1928.  , 1932.  , 1936.  , 1948.  , 1952.  , 1956.  ,\n",
              "        1960.  , 1964.  , 1968.  , 1972.  , 1976.  , 1980.  , 1984.  ,\n",
              "        1988.  , 1992.  , 1996.  , 2000.  , 2004.  , 2008.  ],\n",
              "       [  12.  ,   11.  ,   11.  ,   11.2 ,   10.8 ,   10.8 ,   10.8 ,\n",
              "          10.6 ,   10.8 ,   10.3 ,   10.3 ,   10.3 ,   10.4 ,   10.5 ,\n",
              "          10.2 ,   10.  ,    9.95,   10.14,   10.06,   10.25,    9.99,\n",
              "           9.92,    9.96,    9.84,    9.87,    9.85,    9.69]])"
            ]
          },
          "metadata": {},
          "execution_count": 5
        }
      ]
    },
    {
      "cell_type": "code",
      "source": [
        "x=data[0]\n",
        "y=data[1]"
      ],
      "metadata": {
        "id": "N-6ytwTP-RKT"
      },
      "execution_count": 6,
      "outputs": []
    },
    {
      "cell_type": "markdown",
      "source": [
        "#Visualizando los datos"
      ],
      "metadata": {
        "id": "_3X1n4MaJqc1"
      }
    },
    {
      "cell_type": "code",
      "source": [
        "plt.scatter(x,y)"
      ],
      "metadata": {
        "colab": {
          "base_uri": "https://localhost:8080/",
          "height": 447
        },
        "id": "OIoazngo-g2k",
        "outputId": "159fcd7e-b6c1-4fbe-b574-683ae822e8df"
      },
      "execution_count": 7,
      "outputs": [
        {
          "output_type": "execute_result",
          "data": {
            "text/plain": [
              "<matplotlib.collections.PathCollection at 0x7b96e3d4e020>"
            ]
          },
          "metadata": {},
          "execution_count": 7
        },
        {
          "output_type": "display_data",
          "data": {
            "text/plain": [
              "<Figure size 640x480 with 1 Axes>"
            ],
            "image/png": "[encoded data removed]"
          },
          "metadata": {}
        }
      ]
    },
    {
      "cell_type": "markdown",
      "source": [
        "# Metodo de minimos cuadrados\n",
        "\n",
        "## Ecuaciones\n",
        "\n",
        "$$m=\\frac{\\sum x_i y_i-\\sum x_i\\sum y_i/N } {\\sum x_i^2-(\\sum x_i)^2/N} $$\n",
        "\n",
        "$$b=\\frac{\\sum y_i -m\\sum x_i}{N}$$\n"
      ],
      "metadata": {
        "id": "KrgRQM4q-yBh"
      }
    },
    {
      "cell_type": "code",
      "source": [
        "#definimos las ecuaciones\n",
        "def m_(x,y):\n",
        "  n=len(x)\n",
        "  m=(np.add.reduce(x*y)-(np.add.reduce(x)*np.add.reduce(y))/n)/(np.add.reduce(x**2)-(np.add.reduce(x))**2/n)\n",
        "  return m\n",
        "def b_(x,y):\n",
        "  n=len(x)\n",
        "  b=(np.add.reduce(y)-m_(x,y)*np.add.reduce(x))/(n)\n",
        "  return b"
      ],
      "metadata": {
        "id": "zgHxsSEp-7ek"
      },
      "execution_count": 39,
      "outputs": []
    },
    {
      "cell_type": "code",
      "source": [
        "# Valores\n",
        "m=m_(x,y)\n",
        "b=b_(x,y)\n",
        "\n",
        "print(m)\n",
        "print(b)"
      ],
      "metadata": {
        "colab": {
          "base_uri": "https://localhost:8080/"
        },
        "id": "hvcgwJqb_a-5",
        "outputId": "0510635a-7cce-4432-95b5-df04841a1fbc"
      },
      "execution_count": 40,
      "outputs": [
        {
          "output_type": "stream",
          "name": "stdout",
          "text": [
            "-0.013330885710956546\n",
            "36.416455902494945\n"
          ]
        }
      ]
    },
    {
      "cell_type": "markdown",
      "source": [
        "$$\\hat{y_i}=m x_i +b$$"
      ],
      "metadata": {
        "id": "0ZgcYn55KYDv"
      }
    },
    {
      "cell_type": "code",
      "source": [
        "# Dominio\n",
        "x1=np.linspace(np.min(x),np.max(x),100)\n",
        "f = lambda x :  m*x + b"
      ],
      "metadata": {
        "id": "NzihGQk2B_60"
      },
      "execution_count": 41,
      "outputs": []
    },
    {
      "cell_type": "code",
      "source": [
        "#Grafico\n",
        "plt.scatter(x,y,label='Datos')\n",
        "plt.plot(x1,f(x1),'--r',label='Arreglo (Metodo)')\n",
        "plt.grid()\n",
        "plt.title('Minimos cuadrados')\n",
        "plt.legend()"
      ],
      "metadata": {
        "colab": {
          "base_uri": "https://localhost:8080/",
          "height": 469
        },
        "id": "vpOq4CnaCxGM",
        "outputId": "0777c750-3133-4e31-c1d4-7fe350c4a55b"
      },
      "execution_count": 46,
      "outputs": [
        {
          "output_type": "execute_result",
          "data": {
            "text/plain": [
              "<matplotlib.legend.Legend at 0x7b96e1424a60>"
            ]
          },
          "metadata": {},
          "execution_count": 46
        },
        {
          "output_type": "display_data",
          "data": {
            "text/plain": [
              "<Figure size 640x480 with 1 Axes>"
            ],
            "image/png": "[encoded data removed]"
          },
          "metadata": {}
        }
      ]
    }
  ]
}