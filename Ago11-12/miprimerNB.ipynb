{
  "nbformat": 4,
  "nbformat_minor": 0,
  "metadata": {
    "colab": {
      "provenance": [],
      "authorship_tag": "ABX9TyMd+ZC4uXKXbt8uhNMUS/H8",
      "include_colab_link": true
    },
    "kernelspec": {
      "name": "python3",
      "display_name": "Python 3"
    },
    "language_info": {
      "name": "python"
    }
  },
  "cells": [
    {
      "cell_type": "markdown",
      "metadata": {
        "id": "view-in-github",
        "colab_type": "text"
      },
      "source": [
        "<a href=\"https://colab.research.google.com/github/DCI-alxogm/ml2023-JuanLeonelSantamariaMena/blob/main/Ago11-12/miprimerNB.ipynb\" target=\"_parent\"><img src=\"https://colab.research.google.com/assets/colab-badge.svg\" alt=\"Open In Colab\"/></a>"
      ]
    },
    {
      "cell_type": "markdown",
      "source": [
        "##Breve repaso de algebra lineal, probabilidad y estadística, y programación (python)\n",
        "\n",
        "Algebra lineal (oeraciones basicas)\n",
        "$$\\vec{\\nu}=\\lambda \\vec{v}\\quad\\quad\\quad : \\text{Donce $\\lambda$ es escalar.}$$\n",
        "$$\\vec{w}= \\vec{\\nu}+\\vec{v}=(\\nu_1+v_1,\\nu_2+v_2)$$\n",
        "$$\\vec{v}̇\\cdotp \\vec{\\nu}=\\nu_1*v_1+\\nu_2 * v_2$$\n",
        "$$\\vec{\\nu} \\times \\vec{v}= \\epsilon_{ijk} \\nu_j v_k \\hat{e_i}$$\n"
      ],
      "metadata": {
        "id": "0luwDc_nX2rJ"
      }
    },
    {
      "cell_type": "markdown",
      "source": [
        "![image.png]()![image.png](data:image/png;base64,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)"
      ],
      "metadata": {
        "id": "b011-Eekd5fV"
      }
    },
    {
      "cell_type": "markdown",
      "source": [
        "Cambio de fase\n",
        "$$\\vec{v}=v_1\\hat{e_1}+v_2\\hat{e_2}$$\n",
        "$$\\vec{v}=a\\vec{b_1}+c\\vec{b_2}$$\n",
        "$$\\vec{b_1}=b_1\\hat{e_1}+b_2\\hat{e_2}$$\n",
        "\n",
        "Proyeccion escalar\n",
        "$$a=\\frac{\\vec{v}\\cdotp\\vec{b_1}}{|\\vec{b_1}|}$$\n",
        "$$c=\\frac{\\vec{v}\\cdotp\\vec{b_2}}{|\\vec{b_2}|}$$"
      ],
      "metadata": {
        "id": "zGJWg5asb-HP"
      }
    },
    {
      "cell_type": "markdown",
      "source": [],
      "metadata": {
        "id": "fMZb6wB8fHzl"
      }
    },
    {
      "cell_type": "code",
      "execution_count": 4,
      "metadata": {
        "id": "AsDuX1FH7tFs"
      },
      "outputs": [],
      "source": [
        "import numpy as np\n",
        "import matplotlib as pl"
      ]
    },
    {
      "cell_type": "code",
      "source": [
        "lista1=[2,\"2\",'dos',2.0]\n",
        "lista2=[\"4\",\"cuatro\"]"
      ],
      "metadata": {
        "id": "QzlmLSw3xTFM"
      },
      "execution_count": 3,
      "outputs": []
    },
    {
      "cell_type": "code",
      "source": [
        "lista1+lista2"
      ],
      "metadata": {
        "id": "jYFTwMmmxxfj",
        "outputId": "bde67126-cb5d-4f7d-c273-a8fc444b952a",
        "colab": {
          "base_uri": "https://localhost:8080/"
        }
      },
      "execution_count": 5,
      "outputs": [
        {
          "output_type": "execute_result",
          "data": {
            "text/plain": [
              "[2, '2', 'dos', 2.0, '4', 'cuatro']"
            ]
          },
          "metadata": {},
          "execution_count": 5
        }
      ]
    },
    {
      "cell_type": "code",
      "source": [
        "lista1*3"
      ],
      "metadata": {
        "id": "DkwsaS6Vx-QK",
        "outputId": "9277ab03-a1c8-4e4a-d224-8f5826a4c29d",
        "colab": {
          "base_uri": "https://localhost:8080/"
        }
      },
      "execution_count": 7,
      "outputs": [
        {
          "output_type": "execute_result",
          "data": {
            "text/plain": [
              "[2, '2', 'dos', 2.0, 2, '2', 'dos', 2.0, 2, '2', 'dos', 2.0]"
            ]
          },
          "metadata": {},
          "execution_count": 7
        }
      ]
    },
    {
      "cell_type": "code",
      "source": [
        "#Errores\n",
        "lista1*lista2\n",
        "lista1*3.3"
      ],
      "metadata": {
        "id": "sioWne2NyM9c"
      },
      "execution_count": null,
      "outputs": []
    },
    {
      "cell_type": "code",
      "source": [
        "lista1.append(4)\n",
        "lista1"
      ],
      "metadata": {
        "id": "tF-D6KXDyYMh",
        "outputId": "8679e571-c23a-4205-845f-436bc1918871",
        "colab": {
          "base_uri": "https://localhost:8080/"
        }
      },
      "execution_count": 8,
      "outputs": [
        {
          "output_type": "execute_result",
          "data": {
            "text/plain": [
              "[2, '2', 'dos', 2.0, 4]"
            ]
          },
          "metadata": {},
          "execution_count": 8
        }
      ]
    },
    {
      "cell_type": "code",
      "source": [
        "lista1.remove('dos')\n",
        "lista1"
      ],
      "metadata": {
        "id": "yaMkfHAsyoJ7",
        "outputId": "feaba248-27f4-444a-bff9-3a3f91c91c1e",
        "colab": {
          "base_uri": "https://localhost:8080/"
        }
      },
      "execution_count": 9,
      "outputs": [
        {
          "output_type": "execute_result",
          "data": {
            "text/plain": [
              "[2, '2', 2.0, 4]"
            ]
          },
          "metadata": {},
          "execution_count": 9
        }
      ]
    },
    {
      "cell_type": "code",
      "source": [
        "lista1=[2,\"2\",'dos',2.0]\n",
        "del lista1[2]\n",
        "print(lista1)\n",
        "del lista1[1:]\n",
        "print(lista1)"
      ],
      "metadata": {
        "id": "-xwRmisZzDaL",
        "outputId": "634f8405-7ac1-4a63-8134-cea67689e45a",
        "colab": {
          "base_uri": "https://localhost:8080/"
        }
      },
      "execution_count": 15,
      "outputs": [
        {
          "output_type": "stream",
          "name": "stdout",
          "text": [
            "[2, '2', 2.0]\n",
            "[2]\n"
          ]
        }
      ]
    },
    {
      "cell_type": "code",
      "source": [
        "lista1=[2,\"2\",'dos',2.0]\n",
        "lista1.insert(2,'tres')\n",
        "lista1"
      ],
      "metadata": {
        "id": "MQwZVAF20ZAM",
        "outputId": "bc32a2d3-ffdb-4d92-8c90-41b488b73182",
        "colab": {
          "base_uri": "https://localhost:8080/"
        }
      },
      "execution_count": 16,
      "outputs": [
        {
          "output_type": "execute_result",
          "data": {
            "text/plain": [
              "[2, '2', 'tres', 'dos', 2.0]"
            ]
          },
          "metadata": {},
          "execution_count": 16
        }
      ]
    },
    {
      "cell_type": "code",
      "source": [
        "lista1.insert?"
      ],
      "metadata": {
        "id": "gSc8Skp50uhf"
      },
      "execution_count": 19,
      "outputs": []
    },
    {
      "cell_type": "code",
      "source": [
        "lista3=[lista1,lista2]\n",
        "lista3"
      ],
      "metadata": {
        "id": "EZIxHIlS1ECx",
        "outputId": "80dac1a6-c33a-4761-ea42-c1f2db07b0cc",
        "colab": {
          "base_uri": "https://localhost:8080/"
        }
      },
      "execution_count": 21,
      "outputs": [
        {
          "output_type": "execute_result",
          "data": {
            "text/plain": [
              "[[2, '2', 'tres', 'dos', 2.0], ['4', 'cuatro']]"
            ]
          },
          "metadata": {},
          "execution_count": 21
        }
      ]
    },
    {
      "cell_type": "code",
      "source": [
        "for i in lista1:\n",
        "  print(i)\n",
        ""
      ],
      "metadata": {
        "id": "thG6DgPy1S6A",
        "outputId": "a44b60f6-9603-4cf6-e87b-10f5eef2823e",
        "colab": {
          "base_uri": "https://localhost:8080/"
        }
      },
      "execution_count": 22,
      "outputs": [
        {
          "output_type": "stream",
          "name": "stdout",
          "text": [
            "2\n",
            "2\n",
            "tres\n",
            "dos\n",
            "2.0\n"
          ]
        }
      ]
    },
    {
      "cell_type": "code",
      "source": [
        "for i in range(len(lista1)):\n",
        "  print(lista1[i])"
      ],
      "metadata": {
        "id": "VsahUtQo1dMH",
        "outputId": "f4cc219f-42ad-41e2-dfcd-b7e5147054dc",
        "colab": {
          "base_uri": "https://localhost:8080/"
        }
      },
      "execution_count": 23,
      "outputs": [
        {
          "output_type": "stream",
          "name": "stdout",
          "text": [
            "2\n",
            "2\n",
            "tres\n",
            "dos\n",
            "2.0\n"
          ]
        }
      ]
    },
    {
      "cell_type": "code",
      "source": [
        "len(lista1)"
      ],
      "metadata": {
        "id": "_njyJv-Q2FTM",
        "outputId": "ee33b680-3e98-4652-e60c-de0e065d52f2",
        "colab": {
          "base_uri": "https://localhost:8080/"
        }
      },
      "execution_count": 24,
      "outputs": [
        {
          "output_type": "execute_result",
          "data": {
            "text/plain": [
              "5"
            ]
          },
          "metadata": {},
          "execution_count": 24
        }
      ]
    },
    {
      "cell_type": "code",
      "source": [
        "for i,item in enumerate(lista1):\n",
        "  print(i,item)"
      ],
      "metadata": {
        "id": "mlEGJwlQ2dYq",
        "outputId": "0ba1f692-f533-4374-a5cd-3aa20d8eb9e9",
        "colab": {
          "base_uri": "https://localhost:8080/"
        }
      },
      "execution_count": 25,
      "outputs": [
        {
          "output_type": "stream",
          "name": "stdout",
          "text": [
            "0 2\n",
            "1 2\n",
            "2 tres\n",
            "3 dos\n",
            "4 2.0\n"
          ]
        }
      ]
    },
    {
      "cell_type": "code",
      "source": [
        "enumerate?"
      ],
      "metadata": {
        "id": "N8W5k6MM23hq"
      },
      "execution_count": 26,
      "outputs": []
    },
    {
      "cell_type": "code",
      "source": [
        "import array as arr"
      ],
      "metadata": {
        "id": "9ErnMHLt3VKB"
      },
      "execution_count": 29,
      "outputs": []
    },
    {
      "cell_type": "code",
      "source": [
        "arreglo=arr.array(\"i\",[1,2,3])\n",
        "arreglo2=arr.array(\"i\",[1,2,3])\n",
        "arreglo"
      ],
      "metadata": {
        "id": "NZKTeUoK4LW6",
        "outputId": "1c3eae00-a1c8-4b71-a21f-9880b87bab82",
        "colab": {
          "base_uri": "https://localhost:8080/",
          "height": 210
        }
      },
      "execution_count": 34,
      "outputs": [
        {
          "output_type": "error",
          "ename": "TypeError",
          "evalue": "ignored",
          "traceback": [
            "\u001b[0;31m---------------------------------------------------------------------------\u001b[0m",
            "\u001b[0;31mTypeError\u001b[0m                                 Traceback (most recent call last)",
            "\u001b[0;32m<ipython-input-34-6438ed857f3d>\u001b[0m in \u001b[0;36m<cell line: 3>\u001b[0;34m()\u001b[0m\n\u001b[1;32m      1\u001b[0m \u001b[0marreglo\u001b[0m\u001b[0;34m=\u001b[0m\u001b[0marr\u001b[0m\u001b[0;34m.\u001b[0m\u001b[0marray\u001b[0m\u001b[0;34m(\u001b[0m\u001b[0;34m\"i\"\u001b[0m\u001b[0;34m,\u001b[0m\u001b[0;34m[\u001b[0m\u001b[0;36m1\u001b[0m\u001b[0;34m,\u001b[0m\u001b[0;36m2\u001b[0m\u001b[0;34m,\u001b[0m\u001b[0;36m3\u001b[0m\u001b[0;34m]\u001b[0m\u001b[0;34m)\u001b[0m\u001b[0;34m\u001b[0m\u001b[0;34m\u001b[0m\u001b[0m\n\u001b[1;32m      2\u001b[0m \u001b[0marreglo2\u001b[0m\u001b[0;34m=\u001b[0m\u001b[0marr\u001b[0m\u001b[0;34m.\u001b[0m\u001b[0marray\u001b[0m\u001b[0;34m(\u001b[0m\u001b[0;34m\"i\"\u001b[0m\u001b[0;34m,\u001b[0m\u001b[0;34m[\u001b[0m\u001b[0;36m1\u001b[0m\u001b[0;34m,\u001b[0m\u001b[0;36m2\u001b[0m\u001b[0;34m,\u001b[0m\u001b[0;36m3\u001b[0m\u001b[0;34m]\u001b[0m\u001b[0;34m)\u001b[0m\u001b[0;34m\u001b[0m\u001b[0;34m\u001b[0m\u001b[0m\n\u001b[0;32m----> 3\u001b[0;31m \u001b[0marreglo2\u001b[0m\u001b[0;34m/\u001b[0m\u001b[0;36m2\u001b[0m\u001b[0;34m\u001b[0m\u001b[0;34m\u001b[0m\u001b[0m\n\u001b[0m",
            "\u001b[0;31mTypeError\u001b[0m: unsupported operand type(s) for /: 'array.array' and 'int'"
          ]
        }
      ]
    },
    {
      "cell_type": "code",
      "source": [
        "arg1=np.array([1,2,3])\n",
        "arg2=np.array([1,2,3])\n",
        "#multiplica elemento a elmento\n",
        "arg1*arg2\n",
        "#producto punto\n",
        "np.dot(arg1,arg2)\n",
        "arg1/arg2"
      ],
      "metadata": {
        "id": "gjmwH6Qh5Nvz",
        "outputId": "8d77373e-8dfd-43e8-ce1f-06b98f961f6c",
        "colab": {
          "base_uri": "https://localhost:8080/"
        }
      },
      "execution_count": 38,
      "outputs": [
        {
          "output_type": "execute_result",
          "data": {
            "text/plain": [
              "array([1., 1., 1.])"
            ]
          },
          "metadata": {},
          "execution_count": 38
        }
      ]
    },
    {
      "cell_type": "code",
      "source": [
        "arg1.append(9)"
      ],
      "metadata": {
        "id": "riA8yb9C6b1g",
        "outputId": "026981fe-1319-49ee-b736-a8c5727f02fa",
        "colab": {
          "base_uri": "https://localhost:8080/",
          "height": 175
        }
      },
      "execution_count": 39,
      "outputs": [
        {
          "output_type": "error",
          "ename": "AttributeError",
          "evalue": "ignored",
          "traceback": [
            "\u001b[0;31m---------------------------------------------------------------------------\u001b[0m",
            "\u001b[0;31mAttributeError\u001b[0m                            Traceback (most recent call last)",
            "\u001b[0;32m<ipython-input-39-c36f36b165bf>\u001b[0m in \u001b[0;36m<cell line: 1>\u001b[0;34m()\u001b[0m\n\u001b[0;32m----> 1\u001b[0;31m \u001b[0marg1\u001b[0m\u001b[0;34m.\u001b[0m\u001b[0mappend\u001b[0m\u001b[0;34m(\u001b[0m\u001b[0;36m9\u001b[0m\u001b[0;34m)\u001b[0m\u001b[0;34m\u001b[0m\u001b[0;34m\u001b[0m\u001b[0m\n\u001b[0m",
            "\u001b[0;31mAttributeError\u001b[0m: 'numpy.ndarray' object has no attribute 'append'"
          ]
        }
      ]
    }
  ]
}