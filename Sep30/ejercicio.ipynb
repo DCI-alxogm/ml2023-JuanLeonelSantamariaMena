{
  "nbformat": 4,
  "nbformat_minor": 0,
  "metadata": {
    "colab": {
      "provenance": [],
      "authorship_tag": "ABX9TyPSrAVelOswEt/hY19SSi7r",
      "include_colab_link": true
    },
    "kernelspec": {
      "name": "python3",
      "display_name": "Python 3"
    },
    "language_info": {
      "name": "python"
    }
  },
  "cells": [
    {
      "cell_type": "markdown",
      "metadata": {
        "id": "view-in-github",
        "colab_type": "text"
      },
      "source": [
        "<a href=\"https://colab.research.google.com/github/DCI-alxogm/ml2023-JuanLeonelSantamariaMena/blob/main/Sep30/ejercicio.ipynb\" target=\"_parent\"><img src=\"https://colab.research.google.com/assets/colab-badge.svg\" alt=\"Open In Colab\"/></a>"
      ]
    },
    {
      "cell_type": "code",
      "execution_count": 1,
      "metadata": {
        "id": "Mu2Q-DUYpKHQ"
      },
      "outputs": [],
      "source": [
        "import numpy as np\n",
        "import matplotlib.pyplot as plt"
      ]
    },
    {
      "cell_type": "code",
      "source": [
        "from google.colab import drive\n",
        "drive.mount('/content/drive')\n",
        "data=np.loadtxt(\"/content/drive/MyDrive/Colab Notebooks/olympic100m_men.txt\",delimiter = ',').T\n",
        "x=data[0]\n",
        "y=data[1]"
      ],
      "metadata": {
        "colab": {
          "base_uri": "https://localhost:8080/"
        },
        "id": "Au-xXDFipiyh",
        "outputId": "44dc7e14-2afc-4e6a-8ee5-e6c77f4b09c6"
      },
      "execution_count": 199,
      "outputs": [
        {
          "output_type": "stream",
          "name": "stdout",
          "text": [
            "Drive already mounted at /content/drive; to attempt to forcibly remount, call drive.mount(\"/content/drive\", force_remount=True).\n"
          ]
        }
      ]
    },
    {
      "cell_type": "code",
      "source": [
        "x=(x-np.mean(x))/np.std(x)\n"
      ],
      "metadata": {
        "id": "J83NTQIiLvUH"
      },
      "execution_count": 200,
      "outputs": []
    },
    {
      "cell_type": "markdown",
      "source": [
        "$$P(\\vec{\\omega}|Data)\\propto \\ell (Data|\\vec{\\omega})Pr(\\vec{\\omega})$$\n",
        "\n",
        "$$ln L \\propto \\sum_i(y_i-Model(x_i,\\vec{\\omega})^2$$\n",
        "\n",
        "#no infomativo\n",
        "\n",
        "$$pr(\\theta)=\\frac{1}{\\theta_{max}-\\theta_{min}}$$\n",
        "\n",
        "#informativos\n",
        "\n",
        "$$Pr(\\theta)\\propto e^{(\\theta -\\mu_\\theta)^2/2\\sigma^2_\\theta}$$"
      ],
      "metadata": {
        "id": "vgUIs_ENqdkf"
      }
    },
    {
      "cell_type": "markdown",
      "source": [
        "$f=w_0+w_1x$ parametros libre $w_0,w_1$\n",
        "\n",
        "$\\sigma$\n",
        "\n",
        "* 1) $\\theta_{ini}=[]$\n",
        "* 2) $\\theta_{prop}=[gaussian(\\theta_ini[0],\\sigma),gaussian(\\theta_ini[1],\\sigma)]$\n",
        "* 3) Evaluar $ln Post(\\theta_{ini}), ln Post (theta_{prop})$\n",
        "  * si $ln Post(\\theta_{prop})>ln Post (theta_{ini})$\n",
        "    * acepto $\\theta_{prop}$\n",
        "    * guardar $\\theta_{prop}$\n",
        "  * si no :\n",
        "  * post= uniform (0,1)\n",
        "  * si $ln post(\\theta_{prop}) - ln post(\\theta_{ini})> ln post(post)$\n",
        "    * acepto $\\theta_{prop}$\n",
        "    * guardar $\\theta_{prop}$\n",
        "    * $\\theta_{ini}= \\theta_{prop}$\n"
      ],
      "metadata": {
        "id": "TtdAWjBltRP_"
      }
    },
    {
      "cell_type": "code",
      "source": [
        "#modelo lienal\n",
        "def model(x,theta):\n",
        "  f = 0.0\n",
        "  for i in range(len(theta)):\n",
        "    f+= theta[i]*x**i\n",
        "  return f\n",
        "\n",
        "#prior\n",
        "def prior(lim,theta):\n",
        "  if lim[0,1]> theta[0] >lim[0,0] and lim[1,1]> theta[1] >lim[1,0]:\n",
        "    pr=1\n",
        "  else:\n",
        "    pr=0\n",
        "  return pr\n",
        "\n",
        "#likelihood\n",
        "def likelihood(x,y,theta, model):\n",
        "  lnL=0.0\n",
        "  for i in range(len(x)):\n",
        "    lnL += -0.5*(y[i]-model(x[i],theta))**2\n",
        "  return lnL\n",
        "\n",
        "#Monte Carlo Markov Chain Metropolis Algorithm\n",
        "# Cadenas de Markov Algoritmo Metropolos\n",
        "def CM_AM(x,y,theta,sigma0,sigma1,lim,iter,model):\n",
        "  # distribucion de theta\n",
        "  dist_theta=[]\n",
        "  dist_theta.append(theta)\n",
        "  for i in range(iter):\n",
        "    theta_prop=[np.random.normal(theta[0],sigma0),np.random.normal(theta[1],sigma1)]\n",
        "    lnPost_prop=likelihood(x,y,theta_prop,model)+ np.log(prior(lim,theta_prop))\n",
        "    lnPost_ini=likelihood(x,y,theta,model)+ np.log(prior(lim,theta))\n",
        "    if lim[0,1]> theta_prop[0] >lim[0,0] and lim[1,1]> theta_prop[1] >lim[1,0]:\n",
        "      # lnPost= ln L + ln Pr\n",
        "\n",
        "\n",
        "      if lnPost_prop > lnPost_ini:\n",
        "        dist_theta.append(theta_prop)\n",
        "        theta=theta_prop\n",
        "        #print(f'postirios: {i}: theta{theta_prop} : prop={lnPost_prop} : ini={lnPost_ini}')\n",
        "\n",
        "      elif lnPost_prop - lnPost_ini > np.log(np.random.uniform(0,1)):\n",
        "        dist_theta.append(theta_prop)\n",
        "        theta=theta_prop\n",
        "        #print(f'postirios: {i}: theta{theta_prop} : prop={lnPost_prop} : ini={lnPost_ini}')\n",
        "\n",
        "\n",
        "  return dist_theta"
      ],
      "metadata": {
        "id": "XUJP-f7wzNsO"
      },
      "execution_count": 290,
      "outputs": []
    },
    {
      "cell_type": "code",
      "source": [
        "plt.scatter(x,y)"
      ],
      "metadata": {
        "colab": {
          "base_uri": "https://localhost:8080/",
          "height": 447
        },
        "id": "S-OyHWQXKBHl",
        "outputId": "f13e9707-2948-47e9-82ac-9eba6a875254"
      },
      "execution_count": 107,
      "outputs": [
        {
          "output_type": "execute_result",
          "data": {
            "text/plain": [
              "<matplotlib.collections.PathCollection at 0x7910c7980c70>"
            ]
          },
          "metadata": {},
          "execution_count": 107
        },
        {
          "output_type": "display_data",
          "data": {
            "text/plain": [
              "<Figure size 640x480 with 1 Axes>"
            ],
            "image/png": "[encoded data removed]"
          },
          "metadata": {}
        }
      ]
    },
    {
      "cell_type": "code",
      "source": [
        "w0=0.0\n",
        "w1=0.0\n",
        "sigma0=1\n",
        "sigma1=3\n",
        "#iteracion\n",
        "iter=10000\n",
        "lim= np.asmatrix([[-20,20],[-20,20]])\n",
        "#lim= np.asmatrix([[-50,50],[-1,0]])\n",
        "theta=[w0,w1]\n",
        "dis_theta=CM_AM(x,y,theta,sigma0,sigma1,lim,iter,model)\n",
        "dis_theta=np.array(dis_theta).T\n",
        "dis_theta1=CM_AM(x,y,[20,20],sigma0,sigma1,lim,iter,model)\n",
        "dis_theta1=np.array(dis_theta1).T\n",
        "plt.scatter(dis_theta[0],dis_theta[1])\n",
        "plt.scatter(dis_theta1[0],dis_theta1[1])\n",
        "print(dis_theta.T[-1])\n",
        "print(dis_theta1.T[-1])\n",
        "RA=len(dis_theta.T)/iter\n",
        "RA"
      ],
      "metadata": {
        "colab": {
          "base_uri": "https://localhost:8080/",
          "height": 551
        },
        "id": "t6zaQ0YfpkOW",
        "outputId": "f02a701a-3268-4e2b-e1a9-723e7c56870a"
      },
      "execution_count": 297,
      "outputs": [
        {
          "output_type": "stream",
          "name": "stderr",
          "text": [
            "<ipython-input-290-74ac0e575bd6>:31: RuntimeWarning: divide by zero encountered in log\n",
            "  lnPost_prop=likelihood(x,y,theta_prop,model)+ np.log(prior(lim,theta_prop))\n",
            "<ipython-input-290-74ac0e575bd6>:32: RuntimeWarning: divide by zero encountered in log\n",
            "  lnPost_ini=likelihood(x,y,theta,model)+ np.log(prior(lim,theta))\n"
          ]
        },
        {
          "output_type": "stream",
          "name": "stdout",
          "text": [
            "[10.41952555 -0.24901066]\n",
            "[10.18963019 -0.46399979]\n"
          ]
        },
        {
          "output_type": "execute_result",
          "data": {
            "text/plain": [
              "0.0232"
            ]
          },
          "metadata": {},
          "execution_count": 297
        },
        {
          "output_type": "display_data",
          "data": {
            "text/plain": [
              "<Figure size 640x480 with 1 Axes>"
            ],
            "image/png": "[encoded data removed]"
          },
          "metadata": {}
        }
      ]
    },
    {
      "cell_type": "code",
      "source": [],
      "metadata": {
        "id": "B0vMzL6oHdqI"
      },
      "execution_count": 301,
      "outputs": []
    },
    {
      "cell_type": "code",
      "source": [
        "plt.hist(dis_theta[0][20:])\n",
        "plt.hist(dis_theta1[0][20:])"
      ],
      "metadata": {
        "colab": {
          "base_uri": "https://localhost:8080/",
          "height": 517
        },
        "id": "IP-KMWDarYTi",
        "outputId": "9597301b-ed90-43ec-8048-eba44f6713f7"
      },
      "execution_count": 303,
      "outputs": [
        {
          "output_type": "execute_result",
          "data": {
            "text/plain": [
              "(array([ 9., 10., 26., 36., 40., 37., 27., 10.,  9.,  4.]),\n",
              " array([ 9.86565889,  9.97966929, 10.09367968, 10.20769008, 10.32170048,\n",
              "        10.43571088, 10.54972127, 10.66373167, 10.77774207, 10.89175247,\n",
              "        11.00576286]),\n",
              " <BarContainer object of 10 artists>)"
            ]
          },
          "metadata": {},
          "execution_count": 303
        },
        {
          "output_type": "display_data",
          "data": {
            "text/plain": [
              "<Figure size 640x480 with 1 Axes>"
            ],
            "image/png": "[encoded data removed]"
          },
          "metadata": {}
        }
      ]
    },
    {
      "cell_type": "code",
      "source": [
        "plt.hist(dis_theta[1][20:])\n",
        "plt.hist(dis_theta1[1][20:])"
      ],
      "metadata": {
        "colab": {
          "base_uri": "https://localhost:8080/",
          "height": 517
        },
        "id": "I7i6xISTsGyg",
        "outputId": "953d8501-4ec8-4739-f58e-1ef2fde5cb4f"
      },
      "execution_count": 304,
      "outputs": [
        {
          "output_type": "execute_result",
          "data": {
            "text/plain": [
              "(array([ 5.,  6., 14., 26., 35., 38., 42., 24., 15.,  3.]),\n",
              " array([-1.09035555, -0.97225623, -0.85415691, -0.7360576 , -0.61795828,\n",
              "        -0.49985896, -0.38175964, -0.26366032, -0.145561  , -0.02746168,\n",
              "         0.09063764]),\n",
              " <BarContainer object of 10 artists>)"
            ]
          },
          "metadata": {},
          "execution_count": 304
        },
        {
          "output_type": "display_data",
          "data": {
            "text/plain": [
              "<Figure size 640x480 with 1 Axes>"
            ],
            "image/png": "[encoded data removed]"
          },
          "metadata": {}
        }
      ]
    }
  ]
}