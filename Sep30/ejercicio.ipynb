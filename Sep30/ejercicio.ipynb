{
  "nbformat": 4,
  "nbformat_minor": 0,
  "metadata": {
    "colab": {
      "provenance": [],
      "authorship_tag": "ABX9TyOm6y7dRn1rnUwlC5nGwka8",
      "include_colab_link": true
    },
    "kernelspec": {
      "name": "python3",
      "display_name": "Python 3"
    },
    "language_info": {
      "name": "python"
    }
  },
  "cells": [
    {
      "cell_type": "markdown",
      "metadata": {
        "id": "view-in-github",
        "colab_type": "text"
      },
      "source": [
        "<a href=\"https://colab.research.google.com/github/DCI-alxogm/ml2023-JuanLeonelSantamariaMena/blob/main/Sep30/ejercicio.ipynb\" target=\"_parent\"><img src=\"https://colab.research.google.com/assets/colab-badge.svg\" alt=\"Open In Colab\"/></a>"
      ]
    },
    {
      "cell_type": "code",
      "execution_count": 1,
      "metadata": {
        "id": "Mu2Q-DUYpKHQ"
      },
      "outputs": [],
      "source": [
        "import numpy as np\n",
        "import matplotlib.pyplot as plt"
      ]
    },
    {
      "cell_type": "code",
      "source": [
        "from google.colab import drive\n",
        "drive.mount('/content/drive')\n",
        "data=np.loadtxt(\"/content/drive/MyDrive/Colab Notebooks/olympic100m_men.txt\",delimiter = ',').T\n",
        "x=data[0]\n",
        "y=data[1]"
      ],
      "metadata": {
        "colab": {
          "base_uri": "https://localhost:8080/"
        },
        "id": "Au-xXDFipiyh",
        "outputId": "d7ca3a74-e216-43f5-d4e1-9eacfdd96d15"
      },
      "execution_count": 2,
      "outputs": [
        {
          "output_type": "stream",
          "name": "stdout",
          "text": [
            "Mounted at /content/drive\n"
          ]
        }
      ]
    },
    {
      "cell_type": "code",
      "source": [
        "x=(x-np.mean(x))/np.std(x)\n",
        "y=(y-np.mean(y))/np.std(y)"
      ],
      "metadata": {
        "colab": {
          "base_uri": "https://localhost:8080/"
        },
        "id": "J83NTQIiLvUH",
        "outputId": "43140a93-ede6-44b2-df1d-8d842610392f"
      },
      "execution_count": 108,
      "outputs": [
        {
          "output_type": "execute_result",
          "data": {
            "text/plain": [
              "array([ 3.11016532,  1.17882991,  1.17882991,  1.56509699,  0.79256283,\n",
              "        0.79256283,  0.79256283,  0.40629575,  0.79256283, -0.17310488,\n",
              "       -0.17310488, -0.17310488,  0.02002866,  0.2131622 , -0.36623842,\n",
              "       -0.7525055 , -0.84907227, -0.48211854, -0.63662538, -0.26967165,\n",
              "       -0.77181886, -0.90701233, -0.82975892, -1.06151917, -1.00357911,\n",
              "       -1.04220581, -1.35121948])"
            ]
          },
          "metadata": {},
          "execution_count": 108
        }
      ]
    },
    {
      "cell_type": "markdown",
      "source": [
        "$$P(\\vec{\\omega}|Data)\\propto \\ell (Data|\\vec{\\omega})Pr(\\vec{\\omega})$$\n",
        "\n",
        "$$ln L \\propto \\sum_i(y_i-Model(x_i,\\vec{\\omega})^2$$\n",
        "\n",
        "#no infomativo\n",
        "\n",
        "$$pr(\\theta)=\\frac{1}{\\theta_{max}-\\theta_{min}}$$\n",
        "\n",
        "#informativos\n",
        "\n",
        "$$Pr(\\theta)\\propto e^{(\\theta -\\mu_\\theta)^2/2\\sigma^2_\\theta}$$"
      ],
      "metadata": {
        "id": "vgUIs_ENqdkf"
      }
    },
    {
      "cell_type": "markdown",
      "source": [
        "$f=w_0+w_1x$ parametros libre $w_0,w_1$\n",
        "\n",
        "$\\sigma$\n",
        "\n",
        "* 1) $\\theta_{ini}=[]$\n",
        "* 2) $\\theta_{prop}=[gaussian(\\theta_ini[0],\\sigma),gaussian(\\theta_ini[1],\\sigma)]$\n",
        "* 3) Evaluar $ln Post(\\theta_{ini}), ln Post (theta_{prop})$\n",
        "  * si $ln Post(\\theta_{prop})>ln Post (theta_{ini})$\n",
        "    * acepto $\\theta_{prop}$\n",
        "    * guardar $\\theta_{prop}$\n",
        "  * si no :\n",
        "  * post= uniform (0,1)\n",
        "  * si $ln post(\\theta_{prop}) - ln post(\\theta_{ini})> ln post(post)$\n",
        "    * acepto $\\theta_{prop}$\n",
        "    * guardar $\\theta_{prop}$\n",
        "    * $\\theta_{ini}= \\theta_{prop}$\n"
      ],
      "metadata": {
        "id": "TtdAWjBltRP_"
      }
    },
    {
      "cell_type": "code",
      "source": [
        "#modelo lienal\n",
        "def model(x,theta):\n",
        "  f = 0.0\n",
        "  for i in range(len(theta)):\n",
        "    f+= theta[i]*x[i]**i\n",
        "  return f\n",
        "\n",
        "#prior\n",
        "def prior(lim,theta):\n",
        "  if lim[0,1]> theta[0] >lim[0,0] and lim[1,1]> theta[1] >lim[1,0]:\n",
        "    pr=1\n",
        "  else:\n",
        "    pr=0\n",
        "  return pr\n",
        "\n",
        "#likelihood\n",
        "def likelihood(x,y,theta, model):\n",
        "  lnL=0.0\n",
        "  for i in range(len(x)):\n",
        "    lnL += (y[i]-model(x,theta))**2\n",
        "  return lnL\n",
        "\n",
        "#Monte Carlo Markov Chain Metropolis Algorithm\n",
        "# Cadenas de Markov Algoritmo Metropolos\n",
        "def CM_AM(x,y,theta,sigma0,sigma1,lim,iter,model):\n",
        "  # distribucion de theta\n",
        "  dist_theta=[]\n",
        "  dist_theta.append(theta)\n",
        "  for i in range(iter):\n",
        "    theta_prop=[np.random.normal(theta[0],sigma0),np.random.normal(theta[1],sigma1)]\n",
        "    if lim[0,1]> theta_prop[0] >lim[0,0] and lim[1,1]> theta_prop[1] >lim[1,0]:\n",
        "      # lnPost= ln L + ln Pr\n",
        "      lnPost_prop=likelihood(x,y,theta_prop,model)+ np.log(prior(lim,theta_prop))\n",
        "      lnPost_ini=likelihood(x,y,theta,model)+ np.log(prior(lim,theta))\n",
        "\n",
        "      if lnPost_prop > lnPost_ini:\n",
        "        dist_theta.append(theta_prop)\n",
        "        theta=theta_prop\n",
        "        print(f'postirios: {i}: theta{theta_prop} : prop={lnPost_prop} : ini={lnPost_ini}')\n",
        "\n",
        "      elif lnPost_prop-lnPost_ini >np.log(np.random.uniform(0,1)):\n",
        "        dist_theta.append(theta_prop)\n",
        "        theta=theta_prop\n",
        "        print(f'postirios: {i}: theta{theta_prop} : prop={lnPost_prop} : ini={lnPost_ini}')\n",
        "\n",
        "\n",
        "  return dist_theta"
      ],
      "metadata": {
        "id": "XUJP-f7wzNsO"
      },
      "execution_count": 121,
      "outputs": []
    },
    {
      "cell_type": "code",
      "source": [
        "plt.scatter(x,y)"
      ],
      "metadata": {
        "colab": {
          "base_uri": "https://localhost:8080/",
          "height": 447
        },
        "id": "S-OyHWQXKBHl",
        "outputId": "772cdca8-57b5-4b7d-f9a3-7b676c69a2f6"
      },
      "execution_count": 110,
      "outputs": [
        {
          "output_type": "execute_result",
          "data": {
            "text/plain": [
              "<matplotlib.collections.PathCollection at 0x79cc6a39ec20>"
            ]
          },
          "metadata": {},
          "execution_count": 110
        },
        {
          "output_type": "display_data",
          "data": {
            "text/plain": [
              "<Figure size 640x480 with 1 Axes>"
            ],
            "image/png": "[encoded data removed]"
          },
          "metadata": {}
        }
      ]
    },
    {
      "cell_type": "code",
      "source": [
        "w0=0.0\n",
        "w1=0.0\n",
        "sigma0=0.25\n",
        "sigma1=0.25\n",
        "#iteracion\n",
        "iter=100000\n",
        "lim= np.asmatrix([[-1,1],[-4,4]])\n",
        "theta=[w0,w1]\n",
        "dis_theta=CM_AM(x,y,theta,sigma0,sigma1,lim,iter,model)\n",
        "dis_theta=np.array(dis_theta).T\n",
        "plt.scatter(dis_theta[0],dis_theta[1])"
      ],
      "metadata": {
        "colab": {
          "base_uri": "https://localhost:8080/",
          "height": 1000
        },
        "id": "t6zaQ0YfpkOW",
        "outputId": "a2395ecb-fa4f-468c-fbf1-45f7afd7f174"
      },
      "execution_count": 122,
      "outputs": [
        {
          "output_type": "stream",
          "name": "stdout",
          "text": [
            "postirios: 0: theta[0.8047153601099444, -0.3176063159428204] : prop=71.22664134028841 : ini=27.000000000000007\n",
            "postirios: 1: theta[0.5332540287212348, -0.5495205819287201] : prop=76.59714729877481 : ini=71.22664134028841\n",
            "postirios: 6: theta[0.5796934871983734, -0.6669294994533316] : prop=94.1826073221255 : ini=76.59714729877481\n",
            "postirios: 8: theta[0.5326962496119438, -0.7069944322695136] : prop=95.28934080709028 : ini=94.1826073221255\n",
            "postirios: 10: theta[0.8439831697650464, -0.9973749444897003] : prop=174.34271703199872 : ini=95.28934080709028\n",
            "postirios: 13: theta[0.6921638332398639, -1.1781544840472844] : prop=189.68696250011664 : ini=174.34271703199872\n",
            "postirios: 14: theta[0.8132330812338886, -1.5326736588540784] : prop=287.4931802582547 : ini=189.68696250011664\n",
            "postirios: 21: theta[0.621772675652153, -1.7662503448195235] : prop=314.6630941233694 : ini=287.4931802582547\n",
            "postirios: 23: theta[0.7700172767414816, -1.7584275579509203] : prop=339.23333109440364 : ini=314.6630941233694\n",
            "postirios: 28: theta[0.9864072993630868, -1.683997620067332] : prop=358.8206762693437 : ini=339.23333109440364\n",
            "postirios: 33: theta[0.8713294764876224, -2.000765654861699] : prop=430.2206626475537 : ini=358.8206762693437\n",
            "postirios: 38: theta[0.4384066886351888, -2.6184929940969113] : prop=539.238077709235 : ini=430.2206626475537\n",
            "postirios: 42: theta[0.8858563592734658, -2.8435651949340253] : prop=740.2785348358154 : ini=539.238077709235\n",
            "postirios: 44: theta[0.5256446464967537, -3.087240427744831] : prop=741.4795470851882 : ini=740.2785348358154\n",
            "postirios: 45: theta[0.6979521771662345, -3.0477348067197787] : prop=773.2727186884316 : ini=741.4795470851882\n",
            "postirios: 46: theta[0.743966087261233, -3.040595687144928] : prop=783.3375893651219 : ini=773.2727186884316\n",
            "postirios: 54: theta[0.7911618780569583, -3.0238303321800797] : prop=789.6713397423351 : ini=783.3375893651219\n",
            "postirios: 56: theta[0.8793490794331735, -3.1492974413905723] : prop=870.9052703935073 : ini=789.6713397423351\n",
            "postirios: 67: theta[0.6784298262195373, -3.3921169391484227] : prop=920.6260580441281 : ini=870.9052703935073\n",
            "postirios: 70: theta[0.7450140267259195, -3.6709487186356324] : prop=1077.2160747979217 : ini=920.6260580441281\n",
            "postirios: 71: theta[0.7704768836060916, -3.796145779899865] : prop=1150.0913973301667 : ini=1077.2160747979217\n",
            "postirios: 82: theta[0.6396015853086595, -3.903803005345719] : prop=1160.6266639359285 : ini=1150.0913973301667\n",
            "postirios: 87: theta[0.8275106726024961, -3.936077621487253] : prop=1244.7769654178103 : ini=1160.6266639359285\n",
            "postirios: 96: theta[0.9533681382303334, -3.998182106566446] : prop=1325.4059255407008 : ini=1244.7769654178103\n",
            "postirios: 156: theta[0.9888661358894258, -3.9822635282699177] : prop=1329.7848726532839 : ini=1325.4059255407008\n",
            "postirios: 273: theta[0.9999639184660852, -3.9866660886704794] : prop=1336.4266000503371 : ini=1329.7848726532839\n",
            "postirios: 2239: theta[0.9916512804632496, -3.9988858369002953] : prop=1340.177827999701 : ini=1336.4266000503371\n",
            "postirios: 9328: theta[0.9853368878063471, -3.9999433694731747] : prop=1338.396265090333 : ini=1340.177827999701\n",
            "postirios: 9478: theta[0.9865460237046807, -3.9978097419021053] : prop=1337.6501813601242 : ini=1338.396265090333\n",
            "postirios: 9610: theta[0.9909368315223409, -3.989864326422621] : prop=1334.831654677718 : ini=1337.6501813601242\n",
            "postirios: 12291: theta[0.9849686538853599, -3.9974432325134317] : prop=1336.850560531722 : ini=1334.831654677718\n",
            "postirios: 12995: theta[0.9899759944321, -3.9916389389841314] : prop=1335.4683736424945 : ini=1336.850560531722\n",
            "postirios: 14194: theta[0.9912874064077208, -3.993352223562643] : prop=1336.9252663019208 : ini=1335.4683736424945\n",
            "postirios: 14482: theta[0.981196473162899, -3.9952590898142426] : prop=1334.2041683129899 : ini=1336.9252663019208\n",
            "postirios: 17399: theta[0.9994579457832549, -3.9937633319683123] : prop=1340.2318398247828 : ini=1334.2041683129899\n",
            "postirios: 18501: theta[0.9988374487056189, -3.9936488140530018] : prop=1339.9336575270488 : ini=1340.2318398247828\n",
            "postirios: 21854: theta[0.9917495395155409, -3.9991695909785276] : prop=1340.3747014792966 : ini=1339.9336575270488\n",
            "postirios: 25672: theta[0.9943908927333185, -3.9997421670373865] : prop=1341.6924287220324 : ini=1340.3747014792966\n",
            "postirios: 27082: theta[0.995998986783667, -3.9954119100447185] : prop=1339.8580161465702 : ini=1341.6924287220324\n",
            "postirios: 28736: theta[0.9984125033905755, -3.998920248785058] : prop=1342.7447056945011 : ini=1339.8580161465702\n"
          ]
        },
        {
          "output_type": "execute_result",
          "data": {
            "text/plain": [
              "<matplotlib.collections.PathCollection at 0x79cc689250c0>"
            ]
          },
          "metadata": {},
          "execution_count": 122
        },
        {
          "output_type": "display_data",
          "data": {
            "text/plain": [
              "<Figure size 640x480 with 1 Axes>"
            ],
            "image/png": "[encoded data removed]"
          },
          "metadata": {}
        }
      ]
    },
    {
      "cell_type": "code",
      "source": [
        "len(dis_theta.T)"
      ],
      "metadata": {
        "colab": {
          "base_uri": "https://localhost:8080/"
        },
        "id": "B0vMzL6oHdqI",
        "outputId": "5c253759-1589-40a0-9b77-69b107d62d53"
      },
      "execution_count": 95,
      "outputs": [
        {
          "output_type": "execute_result",
          "data": {
            "text/plain": [
              "11"
            ]
          },
          "metadata": {},
          "execution_count": 95
        }
      ]
    }
  ]
}