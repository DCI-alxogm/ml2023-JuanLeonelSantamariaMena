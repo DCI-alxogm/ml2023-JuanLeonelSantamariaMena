{
  "nbformat": 4,
  "nbformat_minor": 0,
  "metadata": {
    "colab": {
      "provenance": [],
      "authorship_tag": "ABX9TyMke16etC610KshFwH0vfFc",
      "include_colab_link": true
    },
    "kernelspec": {
      "name": "python3",
      "display_name": "Python 3"
    },
    "language_info": {
      "name": "python"
    }
  },
  "cells": [
    {
      "cell_type": "markdown",
      "metadata": {
        "id": "view-in-github",
        "colab_type": "text"
      },
      "source": [
        "<a href=\"https://colab.research.google.com/github/DCI-alxogm/ml2023-JuanLeonelSantamariaMena/blob/main/Sep22-23/ClasesSep22.ipynb\" target=\"_parent\"><img src=\"https://colab.research.google.com/assets/colab-badge.svg\" alt=\"Open In Colab\"/></a>"
      ]
    },
    {
      "cell_type": "markdown",
      "source": [
        "# Probabilidad\n",
        "\n",
        "\n",
        "Reglas de probabiulidad\n",
        "\n",
        "* $0<= P(x)  1$ la probablilidad de x evento debe ser coherente\n",
        "\n",
        "* probabilidad de un evento x y un evento xno deben ser complementatrios\n",
        "\n",
        "* regla de productos  x y y son eventos independientes\n",
        "\n",
        "* la probabilidad de x  son la suma de cada caso\n",
        "  * Discreto\n",
        "  * Continuo\n",
        "\n",
        "# Tehorema de bayer\n",
        "\n",
        "## Tarea demostrar teorema de bayes\n",
        "\n",
        "$$P(y|x)=\\frac{ P(x|y)P(y)} {P(x)} $$\n",
        "\n",
        "likelihood cual es la probabilidad de que x sea verdadero dado que y es vedadero\n",
        "$P(x|y)$\n",
        "\n",
        "prior $P(y)$\n",
        "\n",
        "evidencia $P(x)$\n",
        "\n",
        "likelihoood (gaussiano)\n",
        "$$ L \\prod_i e^{-x_i-f(x_i,w_o,w_1)^2} $$"
      ],
      "metadata": {
        "id": "GuYxRpi1GJxA"
      }
    },
    {
      "cell_type": "markdown",
      "source": [
        "ejemplo simple\n",
        "\n",
        "tes de alergia\n",
        "* una probabilidad de 0.8\n",
        "* Falso positivo 0.1\n",
        "cual es la probabilidad real de que tengas la alergia\n",
        "\n",
        "* **(a priori)** la poblacion tiene una probabilidad de 0.01\n",
        "\n",
        "\n",
        "$$ P(A|T)=\\frac{P(T|A)P(A)}{P(T)} $$\n",
        "$$ P(A|T)=\\frac{P(T|A)P(A)}{P(T_T)+P(F_T)} $$\n",
        "\n",
        "$$ P(A|T)=\\frac{P(T|A)P(A)}{ P(T|A)P(A)+P(T|~A)} $$"
      ],
      "metadata": {
        "id": "vS3ZEVLiJqnp"
      }
    },
    {
      "cell_type": "code",
      "execution_count": null,
      "metadata": {
        "id": "BNvP2qHOF8qJ"
      },
      "outputs": [],
      "source": [
        "#ejemplo\n",
        "# acertividad de la prueva\n",
        "pta=0.8\n",
        "# falso positivo\n",
        "ptf=0.1\n",
        "#a priori\n",
        "pa=0.01\n",
        "\n",
        "\n"
      ]
    }
  ]
}