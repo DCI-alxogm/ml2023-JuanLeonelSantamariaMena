{
  "nbformat": 4,
  "nbformat_minor": 0,
  "metadata": {
    "colab": {
      "provenance": [],
      "authorship_tag": "ABX9TyOvUL3Sc2KHqpe1C4v+a9AA",
      "include_colab_link": true
    },
    "kernelspec": {
      "name": "python3",
      "display_name": "Python 3"
    },
    "language_info": {
      "name": "python"
    }
  },
  "cells": [
    {
      "cell_type": "markdown",
      "metadata": {
        "id": "view-in-github",
        "colab_type": "text"
      },
      "source": [
        "<a href=\"https://colab.research.google.com/github/DCI-alxogm/ml2023-JuanLeonelSantamariaMena/blob/main/Sep8-9/ClaseSep9.ipynb\" target=\"_parent\"><img src=\"https://colab.research.google.com/assets/colab-badge.svg\" alt=\"Open In Colab\"/></a>"
      ]
    },
    {
      "cell_type": "markdown",
      "source": [
        "# Tipos de variables\n",
        "* Categoricas (cuantitativas)\n",
        "  * Ordinales\n",
        "    * Orden especifico\n",
        "  * Nominales\n",
        "    * No orden especifico\n",
        "  * Binarias\n",
        "    * 2 opciones\n",
        "* Numericas\n",
        "  * Discretas\n",
        "    * enteros\n",
        "  * Continuas\n",
        "    * cualquier valor real"
      ],
      "metadata": {
        "id": "P9K6-KublJx3"
      }
    },
    {
      "cell_type": "code",
      "execution_count": null,
      "metadata": {
        "colab": {
          "base_uri": "https://localhost:8080/"
        },
        "id": "gdV_SwxglIpn",
        "outputId": "10630d2e-2911-41fb-d509-6d6afd2d2c4b"
      },
      "outputs": [
        {
          "output_type": "stream",
          "name": "stdout",
          "text": [
            "Object `get_duming` not found.\n"
          ]
        }
      ],
      "source": [
        "get_duming?"
      ]
    },
    {
      "cell_type": "markdown",
      "source": [],
      "metadata": {
        "id": "PjyttiiMlJ39"
      }
    }
  ]
}