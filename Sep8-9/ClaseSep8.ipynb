{
  "nbformat": 4,
  "nbformat_minor": 0,
  "metadata": {
    "colab": {
      "provenance": [],
      "authorship_tag": "ABX9TyOx9lLtaKxfGcmc0iq6nhfk",
      "include_colab_link": true
    },
    "kernelspec": {
      "name": "python3",
      "display_name": "Python 3"
    },
    "language_info": {
      "name": "python"
    }
  },
  "cells": [
    {
      "cell_type": "markdown",
      "metadata": {
        "id": "view-in-github",
        "colab_type": "text"
      },
      "source": [
        "<a href=\"https://colab.research.google.com/github/DCI-alxogm/ml2023-JuanLeonelSantamariaMena/blob/main/Sep8-9/ClaseSep8.ipynb\" target=\"_parent\"><img src=\"https://colab.research.google.com/assets/colab-badge.svg\" alt=\"Open In Colab\"/></a>"
      ]
    },
    {
      "cell_type": "markdown",
      "source": [
        "Batch gradient descent\n",
        "* utiliza todo el conjunto de entrenamiento\n",
        "\n",
        "mini batch gradient descendt\n",
        "* un bloque de tamaño m del cojunto de entrenamiento\n",
        "\n",
        "Stochastic gradient descent\n",
        "* muestras aleatorias de tamaño m del conjunto de entrenamiento"
      ],
      "metadata": {
        "id": "R27667RFEoX4"
      }
    },
    {
      "cell_type": "code",
      "execution_count": 1,
      "metadata": {
        "id": "O-T-xKAwEl8Y"
      },
      "outputs": [],
      "source": [
        "import numpy as np\n",
        "import matplotlib.pyplot as plt\n",
        "from sklearn.linear_model import SGDRegressor\n",
        "from sklearn.preprocessing import StandardScaler\n",
        "from sklearn.model_selection import train_test_split\n"
      ]
    },
    {
      "cell_type": "code",
      "source": [
        "from keras.models import Sequential\n",
        "from keras.layers.core import Dense\n",
        "drom keras.optimizers import SGD"
      ],
      "metadata": {
        "id": "hAdEudb6J4An"
      },
      "execution_count": null,
      "outputs": []
    },
    {
      "cell_type": "code",
      "source": [
        "from google.colab import drive\n",
        "drive.mount('/content/drive')\n",
        "data=np.loadtxt(\"/content/drive/MyDrive/Colab Notebooks/houses.txt\",delimiter = ',').T\n"
      ],
      "metadata": {
        "colab": {
          "base_uri": "https://localhost:8080/"
        },
        "id": "VTDO_PH4F4nP",
        "outputId": "6bff7abc-da38-4fee-9c53-f1b024768853"
      },
      "execution_count": 2,
      "outputs": [
        {
          "output_type": "stream",
          "name": "stdout",
          "text": [
            "Mounted at /content/drive\n"
          ]
        }
      ]
    },
    {
      "cell_type": "code",
      "source": [
        "Xh=data[:4].T\n",
        "th=data[:,4]\n",
        "labels=[\"Tamaño\",\"Habitaciones\", \"Pisos\",\"Años\"]"
      ],
      "metadata": {
        "id": "fXTj-hGmF96W"
      },
      "execution_count": 16,
      "outputs": []
    },
    {
      "cell_type": "code",
      "source": [
        "Xh[0]"
      ],
      "metadata": {
        "colab": {
          "base_uri": "https://localhost:8080/"
        },
        "id": "MxUqdIfcJhMQ",
        "outputId": "b0e00a77-ba1d-4634-adca-2a69ee32263c"
      },
      "execution_count": 20,
      "outputs": [
        {
          "output_type": "execute_result",
          "data": {
            "text/plain": [
              "array([952.,   2.,   1.,  65.])"
            ]
          },
          "metadata": {},
          "execution_count": 20
        }
      ]
    },
    {
      "cell_type": "code",
      "source": [
        "Xh.T"
      ],
      "metadata": {
        "colab": {
          "base_uri": "https://localhost:8080/"
        },
        "id": "Sc8upbIaGFQ-",
        "outputId": "3750dc45-2f31-4ac0-ef2a-9495634ceda7"
      },
      "execution_count": 21,
      "outputs": [
        {
          "output_type": "execute_result",
          "data": {
            "text/plain": [
              "array([[9.520e+02, 1.244e+03, 1.947e+03, 1.725e+03, 1.959e+03, 1.314e+03,\n",
              "        8.640e+02, 1.836e+03, 1.026e+03, 3.194e+03, 7.880e+02, 1.200e+03,\n",
              "        1.557e+03, 1.430e+03, 1.220e+03, 1.092e+03, 8.480e+02, 1.682e+03,\n",
              "        1.768e+03, 1.040e+03, 1.652e+03, 1.088e+03, 1.316e+03, 1.593e+03,\n",
              "        9.720e+02, 1.097e+03, 1.004e+03, 9.040e+02, 1.694e+03, 1.073e+03,\n",
              "        1.419e+03, 1.164e+03, 1.935e+03, 1.216e+03, 2.482e+03, 1.200e+03,\n",
              "        1.840e+03, 1.851e+03, 1.660e+03, 1.096e+03, 1.775e+03, 2.030e+03,\n",
              "        1.784e+03, 1.073e+03, 1.552e+03, 1.953e+03, 1.224e+03, 1.616e+03,\n",
              "        8.160e+02, 1.349e+03, 1.571e+03, 1.486e+03, 1.506e+03, 1.097e+03,\n",
              "        1.764e+03, 1.208e+03, 1.470e+03, 1.768e+03, 1.654e+03, 1.029e+03,\n",
              "        1.120e+03, 1.150e+03, 8.160e+02, 1.040e+03, 1.392e+03, 1.603e+03,\n",
              "        1.215e+03, 1.073e+03, 2.599e+03, 1.431e+03, 2.090e+03, 1.790e+03,\n",
              "        1.484e+03, 1.040e+03, 1.431e+03, 1.159e+03, 1.547e+03, 1.983e+03,\n",
              "        1.056e+03, 1.180e+03, 1.358e+03, 9.600e+02, 1.456e+03, 1.446e+03,\n",
              "        1.208e+03, 1.553e+03, 8.820e+02, 2.030e+03, 1.040e+03, 1.616e+03,\n",
              "        8.030e+02, 1.430e+03, 1.656e+03, 1.541e+03, 9.480e+02, 1.224e+03,\n",
              "        1.432e+03, 1.660e+03, 1.212e+03, 1.050e+03],\n",
              "       [2.000e+00, 3.000e+00, 3.000e+00, 3.000e+00, 3.000e+00, 2.000e+00,\n",
              "        2.000e+00, 3.000e+00, 3.000e+00, 4.000e+00, 2.000e+00, 2.000e+00,\n",
              "        2.000e+00, 3.000e+00, 2.000e+00, 2.000e+00, 1.000e+00, 3.000e+00,\n",
              "        3.000e+00, 3.000e+00, 2.000e+00, 2.000e+00, 3.000e+00, 0.000e+00,\n",
              "        2.000e+00, 3.000e+00, 2.000e+00, 3.000e+00, 3.000e+00, 2.000e+00,\n",
              "        3.000e+00, 3.000e+00, 3.000e+00, 2.000e+00, 4.000e+00, 2.000e+00,\n",
              "        3.000e+00, 3.000e+00, 3.000e+00, 2.000e+00, 3.000e+00, 4.000e+00,\n",
              "        4.000e+00, 2.000e+00, 3.000e+00, 3.000e+00, 2.000e+00, 3.000e+00,\n",
              "        2.000e+00, 3.000e+00, 3.000e+00, 3.000e+00, 2.000e+00, 3.000e+00,\n",
              "        3.000e+00, 2.000e+00, 3.000e+00, 3.000e+00, 3.000e+00, 3.000e+00,\n",
              "        2.000e+00, 3.000e+00, 2.000e+00, 3.000e+00, 3.000e+00, 3.000e+00,\n",
              "        3.000e+00, 2.000e+00, 4.000e+00, 3.000e+00, 3.000e+00, 4.000e+00,\n",
              "        3.000e+00, 3.000e+00, 3.000e+00, 3.000e+00, 3.000e+00, 3.000e+00,\n",
              "        3.000e+00, 2.000e+00, 2.000e+00, 3.000e+00, 3.000e+00, 3.000e+00,\n",
              "        2.000e+00, 3.000e+00, 3.000e+00, 4.000e+00, 3.000e+00, 3.000e+00,\n",
              "        2.000e+00, 3.000e+00, 3.000e+00, 3.000e+00, 3.000e+00, 2.000e+00,\n",
              "        2.000e+00, 3.000e+00, 3.000e+00, 2.000e+00],\n",
              "       [1.000e+00, 1.000e+00, 2.000e+00, 2.000e+00, 2.000e+00, 1.000e+00,\n",
              "        1.000e+00, 1.000e+00, 1.000e+00, 2.000e+00, 1.000e+00, 2.000e+00,\n",
              "        1.000e+00, 1.000e+00, 1.000e+00, 1.000e+00, 1.000e+00, 2.000e+00,\n",
              "        2.000e+00, 1.000e+00, 1.000e+00, 1.000e+00, 1.000e+00, 1.000e+00,\n",
              "        1.000e+00, 1.000e+00, 1.000e+00, 1.000e+00, 1.000e+00, 1.000e+00,\n",
              "        2.000e+00, 1.000e+00, 2.000e+00, 2.000e+00, 2.000e+00, 1.000e+00,\n",
              "        2.000e+00, 2.000e+00, 2.000e+00, 2.000e+00, 2.000e+00, 2.000e+00,\n",
              "        2.000e+00, 1.000e+00, 1.000e+00, 2.000e+00, 2.000e+00, 1.000e+00,\n",
              "        1.000e+00, 1.000e+00, 1.000e+00, 1.000e+00, 1.000e+00, 1.000e+00,\n",
              "        2.000e+00, 1.000e+00, 2.000e+00, 2.000e+00, 1.000e+00, 1.000e+00,\n",
              "        2.000e+00, 1.000e+00, 1.000e+00, 1.000e+00, 1.000e+00, 2.000e+00,\n",
              "        1.000e+00, 1.000e+00, 2.000e+00, 1.000e+00, 2.000e+00, 2.000e+00,\n",
              "        2.000e+00, 1.000e+00, 1.000e+00, 1.000e+00, 2.000e+00, 2.000e+00,\n",
              "        1.000e+00, 1.000e+00, 1.000e+00, 1.000e+00, 2.000e+00, 2.000e+00,\n",
              "        1.000e+00, 2.000e+00, 1.000e+00, 2.000e+00, 1.000e+00, 1.000e+00,\n",
              "        1.000e+00, 2.000e+00, 1.000e+00, 1.000e+00, 1.000e+00, 2.000e+00,\n",
              "        1.000e+00, 2.000e+00, 1.000e+00, 1.000e+00],\n",
              "       [6.500e+01, 6.400e+01, 1.700e+01, 4.200e+01, 1.500e+01, 1.400e+01,\n",
              "        6.600e+01, 1.700e+01, 4.300e+01, 8.700e+01, 8.000e+01, 1.700e+01,\n",
              "        1.800e+01, 2.000e+01, 1.500e+01, 6.400e+01, 1.700e+01, 2.300e+01,\n",
              "        1.800e+01, 4.400e+01, 2.100e+01, 3.500e+01, 1.400e+01, 2.000e+01,\n",
              "        7.300e+01, 3.700e+01, 5.100e+01, 5.500e+01, 1.300e+01, 1.000e+02,\n",
              "        1.900e+01, 5.200e+01, 1.200e+01, 7.400e+01, 1.600e+01, 1.800e+01,\n",
              "        2.000e+01, 5.700e+01, 1.900e+01, 9.700e+01, 2.800e+01, 4.500e+01,\n",
              "        1.070e+02, 1.000e+02, 1.600e+01, 1.600e+01, 1.200e+01, 1.600e+01,\n",
              "        5.800e+01, 2.100e+01, 1.400e+01, 5.700e+01, 1.600e+01, 2.700e+01,\n",
              "        2.400e+01, 1.400e+01, 2.400e+01, 8.400e+01, 1.900e+01, 6.000e+01,\n",
              "        1.600e+01, 6.200e+01, 3.900e+01, 2.500e+01, 6.400e+01, 2.900e+01,\n",
              "        6.300e+01, 1.000e+02, 2.200e+01, 5.900e+01, 2.600e+01, 4.900e+01,\n",
              "        1.600e+01, 2.500e+01, 2.200e+01, 5.300e+01, 1.200e+01, 2.200e+01,\n",
              "        5.300e+01, 9.900e+01, 1.700e+01, 5.100e+01, 1.600e+01, 2.500e+01,\n",
              "        1.500e+01, 1.600e+01, 4.900e+01, 4.500e+01, 6.200e+01, 1.600e+01,\n",
              "        8.000e+01, 2.100e+01, 6.100e+01, 1.600e+01, 5.300e+01, 1.200e+01,\n",
              "        4.300e+01, 1.900e+01, 2.000e+01, 6.500e+01]])"
            ]
          },
          "metadata": {},
          "execution_count": 21
        }
      ]
    }
  ]
}