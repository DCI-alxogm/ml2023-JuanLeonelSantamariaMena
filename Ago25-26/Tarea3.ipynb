{
  "nbformat": 4,
  "nbformat_minor": 0,
  "metadata": {
    "colab": {
      "provenance": [],
      "authorship_tag": "ABX9TyOR8PotgA/OpSJhVMv6Az0n",
      "include_colab_link": true
    },
    "kernelspec": {
      "name": "python3",
      "display_name": "Python 3"
    },
    "language_info": {
      "name": "python"
    }
  },
  "cells": [
    {
      "cell_type": "markdown",
      "metadata": {
        "id": "view-in-github",
        "colab_type": "text"
      },
      "source": [
        "<a href=\"https://colab.research.google.com/github/DCI-alxogm/ml2023-JuanLeonelSantamariaMena/blob/main/Ago25-26/Tarea3.ipynb\" target=\"_parent\"><img src=\"https://colab.research.google.com/assets/colab-badge.svg\" alt=\"Open In Colab\"/></a>"
      ]
    },
    {
      "cell_type": "code",
      "source": [
        "import numpy as np\n",
        "import matplotlib.pyplot as plt"
      ],
      "metadata": {
        "id": "7y8-9zsA5c7T"
      },
      "execution_count": 1,
      "outputs": []
    },
    {
      "cell_type": "code",
      "source": [
        "from google.colab import drive\n",
        "drive.mount('/content/drive')\n",
        "data=np.loadtxt(\"/content/drive/MyDrive/Colab Notebooks/olympic100m_men.txt\",delimiter = ',').T\n",
        "x=data[0]\n",
        "y=data[1]"
      ],
      "metadata": {
        "colab": {
          "base_uri": "https://localhost:8080/"
        },
        "id": "21f0vbKw5-Jq",
        "outputId": "3cb8ca10-4a5a-42f0-9c75-2f3cf6d6fb46"
      },
      "execution_count": 3,
      "outputs": [
        {
          "output_type": "stream",
          "name": "stdout",
          "text": [
            "Mounted at /content/drive\n"
          ]
        }
      ]
    },
    {
      "cell_type": "code",
      "source": [
        "def X(x,o=1):\n",
        "  X=np.ones((o+1,len(x)),dtype=float)\n",
        "  for i in range(o+1):\n",
        "    for j in range(len(x)):\n",
        "      X[i][j]=float(x[j]**i)\n",
        "  X=X.T\n",
        "  w=np.linalg.inv(x.T@ x)@ x.T @t\n",
        "\n",
        "  return X"
      ],
      "metadata": {
        "id": "OUXp4G_O6b2k"
      },
      "execution_count": 46,
      "outputs": []
    },
    {
      "cell_type": "code",
      "source": [
        "X=X(x,2)\n",
        "X"
      ],
      "metadata": {
        "colab": {
          "base_uri": "https://localhost:8080/"
        },
        "id": "qBVGihYb7qqB",
        "outputId": "3f602900-efb9-444a-9c8b-f4e38cd804f2"
      },
      "execution_count": 47,
      "outputs": [
        {
          "output_type": "execute_result",
          "data": {
            "text/plain": [
              "array([[1.000000e+00, 1.896000e+03, 3.594816e+06],\n",
              "       [1.000000e+00, 1.900000e+03, 3.610000e+06],\n",
              "       [1.000000e+00, 1.904000e+03, 3.625216e+06],\n",
              "       [1.000000e+00, 1.906000e+03, 3.632836e+06],\n",
              "       [1.000000e+00, 1.908000e+03, 3.640464e+06],\n",
              "       [1.000000e+00, 1.912000e+03, 3.655744e+06],\n",
              "       [1.000000e+00, 1.920000e+03, 3.686400e+06],\n",
              "       [1.000000e+00, 1.924000e+03, 3.701776e+06],\n",
              "       [1.000000e+00, 1.928000e+03, 3.717184e+06],\n",
              "       [1.000000e+00, 1.932000e+03, 3.732624e+06],\n",
              "       [1.000000e+00, 1.936000e+03, 3.748096e+06],\n",
              "       [1.000000e+00, 1.948000e+03, 3.794704e+06],\n",
              "       [1.000000e+00, 1.952000e+03, 3.810304e+06],\n",
              "       [1.000000e+00, 1.956000e+03, 3.825936e+06],\n",
              "       [1.000000e+00, 1.960000e+03, 3.841600e+06],\n",
              "       [1.000000e+00, 1.964000e+03, 3.857296e+06],\n",
              "       [1.000000e+00, 1.968000e+03, 3.873024e+06],\n",
              "       [1.000000e+00, 1.972000e+03, 3.888784e+06],\n",
              "       [1.000000e+00, 1.976000e+03, 3.904576e+06],\n",
              "       [1.000000e+00, 1.980000e+03, 3.920400e+06],\n",
              "       [1.000000e+00, 1.984000e+03, 3.936256e+06],\n",
              "       [1.000000e+00, 1.988000e+03, 3.952144e+06],\n",
              "       [1.000000e+00, 1.992000e+03, 3.968064e+06],\n",
              "       [1.000000e+00, 1.996000e+03, 3.984016e+06],\n",
              "       [1.000000e+00, 2.000000e+03, 4.000000e+06],\n",
              "       [1.000000e+00, 2.004000e+03, 4.016016e+06],\n",
              "       [1.000000e+00, 2.008000e+03, 4.032064e+06]])"
            ]
          },
          "metadata": {},
          "execution_count": 47
        }
      ]
    }
  ]
}